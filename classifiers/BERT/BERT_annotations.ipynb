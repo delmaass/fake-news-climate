{
  "cells": [
    {
      "cell_type": "markdown",
      "metadata": {
        "id": "MyETdB-dkBsX"
      },
      "source": [
        "## **Fine-tuning BERT for named-entity recognition**\n",
        "\n",
        "Based on https://github.com/abhimishra91/transformers-tutorials"
      ]
    },
    {
      "cell_type": "markdown",
      "metadata": {
        "id": "e7wfLWyYkvDi"
      },
      "source": [
        "#### **Importing Python Libraries and preparing the environment**"
      ]
    },
    {
      "cell_type": "code",
      "execution_count": 3,
      "metadata": {
        "colab": {
          "base_uri": "https://localhost:8080/",
          "height": 1000
        },
        "id": "j-sgUbzBXPZK",
        "outputId": "7871ebf9-f461-4ef3-ff67-4355d1ab1de3"
      },
      "outputs": [
        {
          "name": "stdout",
          "output_type": "stream",
          "text": [
            "Collecting transformers\n",
            "  Downloading transformers-4.16.2-py3-none-any.whl (3.5 MB)\n",
            "Collecting seqeval[gpu]\n",
            "  Using cached seqeval-1.2.2-py3-none-any.whl\n",
            "Requirement already satisfied: regex!=2019.12.17 in c:\\users\\louis\\miniconda3\\envs\\fake_news\\lib\\site-packages (from transformers) (2021.10.8)\n",
            "Requirement already satisfied: numpy>=1.17 in c:\\users\\louis\\miniconda3\\envs\\fake_news\\lib\\site-packages (from transformers) (1.21.0)\n",
            "Collecting packaging>=20.0\n",
            "  Using cached packaging-21.3-py3-none-any.whl (40 kB)\n",
            "Collecting sacremoses\n",
            "  Using cached sacremoses-0.0.47-py2.py3-none-any.whl (895 kB)\n",
            "Collecting tqdm>=4.27\n",
            "  Using cached tqdm-4.62.3-py2.py3-none-any.whl (76 kB)\n",
            "Collecting huggingface-hub<1.0,>=0.1.0\n",
            "  Using cached huggingface_hub-0.4.0-py3-none-any.whl (67 kB)\n",
            "Requirement already satisfied: requests in c:\\users\\louis\\miniconda3\\envs\\fake_news\\lib\\site-packages (from transformers) (2.27.1)\n",
            "Collecting pyyaml>=5.1\n",
            "  Using cached PyYAML-6.0-cp39-cp39-win_amd64.whl (151 kB)\n",
            "Collecting filelock\n",
            "  Using cached filelock-3.4.2-py3-none-any.whl (9.9 kB)\n",
            "Collecting tokenizers!=0.11.3,>=0.10.1\n",
            "  Downloading tokenizers-0.11.4-cp39-cp39-win_amd64.whl (3.3 MB)\n",
            "Requirement already satisfied: scikit-learn>=0.21.3 in c:\\users\\louis\\miniconda3\\envs\\fake_news\\lib\\site-packages (from seqeval[gpu]) (1.0.2)\n",
            "Collecting typing-extensions>=3.7.4.3\n",
            "  Using cached typing_extensions-4.0.1-py3-none-any.whl (22 kB)"
          ]
        },
        {
          "name": "stderr",
          "output_type": "stream",
          "text": [
            "ERROR: pip's dependency resolver does not currently take into account all the packages that are installed. This behaviour is the source of the following dependency conflicts.\n",
            "spacy 3.2.0 requires blis<0.8.0,>=0.4.0, which is not installed.\n",
            "spacy 3.2.0 requires catalogue<2.1.0,>=2.0.6, which is not installed.\n",
            "spacy 3.2.0 requires cymem<2.1.0,>=2.0.2, which is not installed.\n",
            "spacy 3.2.0 requires jinja2, which is not installed.\n",
            "spacy 3.2.0 requires langcodes<4.0.0,>=3.2.0, which is not installed.\n",
            "spacy 3.2.0 requires murmurhash<1.1.0,>=0.28.0, which is not installed.\n",
            "spacy 3.2.0 requires pathy>=0.3.5, which is not installed.\n",
            "spacy 3.2.0 requires preshed<3.1.0,>=3.0.2, which is not installed.\n",
            "spacy 3.2.0 requires pydantic!=1.8,!=1.8.1,<1.9.0,>=1.7.4, which is not installed.\n",
            "spacy 3.2.0 requires spacy-legacy<3.1.0,>=3.0.8, which is not installed.\n",
            "spacy 3.2.0 requires spacy-loggers<2.0.0,>=1.0.0, which is not installed.\n",
            "spacy 3.2.0 requires srsly<3.0.0,>=2.4.1, which is not installed.\n",
            "spacy 3.2.0 requires typer<0.5.0,>=0.3.0, which is not installed.\n",
            "spacy 3.2.0 requires wasabi<1.1.0,>=0.8.1, which is not installed.\n"
          ]
        },
        {
          "name": "stdout",
          "output_type": "stream",
          "text": [
            "\n",
            "Collecting pyparsing!=3.0.5,>=2.0.2\n",
            "  Using cached pyparsing-3.0.7-py3-none-any.whl (98 kB)\n",
            "Requirement already satisfied: scipy>=1.1.0 in c:\\users\\louis\\miniconda3\\envs\\fake_news\\lib\\site-packages (from scikit-learn>=0.21.3->seqeval[gpu]) (1.7.3)\n",
            "Requirement already satisfied: joblib>=0.11 in c:\\users\\louis\\miniconda3\\envs\\fake_news\\lib\\site-packages (from scikit-learn>=0.21.3->seqeval[gpu]) (1.1.0)\n",
            "Requirement already satisfied: threadpoolctl>=2.0.0 in c:\\users\\louis\\miniconda3\\envs\\fake_news\\lib\\site-packages (from scikit-learn>=0.21.3->seqeval[gpu]) (3.1.0)\n",
            "Requirement already satisfied: colorama in c:\\users\\louis\\miniconda3\\envs\\fake_news\\lib\\site-packages (from tqdm>=4.27->transformers) (0.4.4)\n",
            "Requirement already satisfied: urllib3<1.27,>=1.21.1 in c:\\users\\louis\\miniconda3\\envs\\fake_news\\lib\\site-packages (from requests->transformers) (1.26.6)\n",
            "Requirement already satisfied: idna<4,>=2.5 in c:\\users\\louis\\miniconda3\\envs\\fake_news\\lib\\site-packages (from requests->transformers) (3.3)\n",
            "Requirement already satisfied: charset-normalizer~=2.0.0 in c:\\users\\louis\\miniconda3\\envs\\fake_news\\lib\\site-packages (from requests->transformers) (2.0.10)\n",
            "Requirement already satisfied: certifi>=2017.4.17 in c:\\users\\louis\\miniconda3\\envs\\fake_news\\lib\\site-packages (from requests->transformers) (2021.5.30)\n",
            "Requirement already satisfied: click in c:\\users\\louis\\miniconda3\\envs\\fake_news\\lib\\site-packages (from sacremoses->transformers) (8.0.2)\n",
            "Requirement already satisfied: six in c:\\users\\louis\\miniconda3\\envs\\fake_news\\lib\\site-packages (from sacremoses->transformers) (1.16.0)\n",
            "Installing collected packages: pyparsing, typing-extensions, tqdm, pyyaml, packaging, filelock, tokenizers, seqeval, sacremoses, huggingface-hub, transformers\n",
            "Successfully installed filelock-3.4.2 huggingface-hub-0.4.0 packaging-21.3 pyparsing-3.0.7 pyyaml-6.0 sacremoses-0.0.47 seqeval-1.2.2 tokenizers-0.11.4 tqdm-4.62.3 transformers-4.16.2 typing-extensions-4.0.1\n"
          ]
        }
      ],
      "source": [
        "!pip install transformers seqeval[gpu]"
      ]
    },
    {
      "cell_type": "code",
      "execution_count": 1,
      "metadata": {
        "id": "IEnlUbgm8z3B"
      },
      "outputs": [],
      "source": [
        "import pandas as pd\n",
        "import numpy as np\n",
        "from sklearn.metrics import accuracy_score\n",
        "import torch\n",
        "from torch.utils.data import Dataset, DataLoader\n",
        "from transformers import CamembertForTokenClassification, CamembertTokenizerFast\n",
        "from seqeval.metrics import classification_report"
      ]
    },
    {
      "cell_type": "code",
      "execution_count": 2,
      "metadata": {
        "colab": {
          "base_uri": "https://localhost:8080/",
          "height": 34
        },
        "id": "Sm1krxJtKxpx",
        "outputId": "20ef661a-afa6-47ae-88b3-4a9781299a53",
        "tags": []
      },
      "outputs": [
        {
          "name": "stdout",
          "output_type": "stream",
          "text": [
            "cpu\n"
          ]
        }
      ],
      "source": [
        "# from torch import cuda\n",
        "# device = 'cuda' if cuda.is_available() else 'cpu'\n",
        "device = 'cpu'\n",
        "print(device)"
      ]
    },
    {
      "cell_type": "markdown",
      "metadata": {
        "id": "ahwMsmyG5ZPE"
      },
      "source": [
        "#### **Downloading and preprocessing the data**\n",
        "Named entity recognition (NER) uses a specific annotation scheme, which is defined (at least for European languages) at the *word* level. An annotation scheme that is widely used is called **[IOB-tagging](https://en.wikipedia.org/wiki/Inside%E2%80%93outside%E2%80%93beginning_(tagging)**, which stands for Inside-Outside-Beginning. Each tag indicates whether the corresponding word is *inside*, *outside* or at the *beginning* of a specific named entity. The reason this is used is because named entities usually comprise more than 1 word. \n",
        "\n",
        "Let's have a look at an example. If you have a sentence like \"Barack Obama was born in Hawaï\", then the corresponding tags would be   [B-PERS, I-PERS, O, O, O, B-GEO]. B-PERS means that the word \"Barack\" is the beginning of a person, I-PERS means that the word \"Obama\" is inside a person, \"O\" means that the word \"was\" is outside a named entity, and so on. So one typically has as many tags as there are words in a sentence.\n",
        "\n",
        "So if you want to train a deep learning model for NER, it requires that you have your data in this IOB format (or similar formats such as [BILOU](https://stackoverflow.com/questions/17116446/what-do-the-bilou-tags-mean-in-named-entity-recognition)). There exist many annotation tools which let you create these kind of annotations automatically (such as Spacy's [Prodigy](https://prodi.gy/), [Tagtog](https://docs.tagtog.net/) or [Doccano](https://github.com/doccano/doccano)). You can also use Spacy's [biluo_tags_from_offsets](https://spacy.io/api/goldparse#biluo_tags_from_offsets) function to convert annotations at the character level to IOB format.\n",
        "\n",
        "Here, we will use a NER dataset from [Kaggle](https://www.kaggle.com/namanj27/ner-dataset) that is already in IOB format. One has to go to this web page, download the dataset, unzip it, and upload the csv file to this notebook. Let's print out the first few rows of this csv file:"
      ]
    },
    {
      "cell_type": "code",
      "execution_count": 3,
      "metadata": {
        "colab": {
          "base_uri": "https://localhost:8080/",
          "height": 195
        },
        "id": "deLB9HVX5I6F",
        "outputId": "cf18919d-2726-4efe-886c-c33f8f478d80"
      },
      "outputs": [
        {
          "data": {
            "text/html": [
              "<div>\n",
              "<style scoped>\n",
              "    .dataframe tbody tr th:only-of-type {\n",
              "        vertical-align: middle;\n",
              "    }\n",
              "\n",
              "    .dataframe tbody tr th {\n",
              "        vertical-align: top;\n",
              "    }\n",
              "\n",
              "    .dataframe thead th {\n",
              "        text-align: right;\n",
              "    }\n",
              "</style>\n",
              "<table border=\"1\" class=\"dataframe\">\n",
              "  <thead>\n",
              "    <tr style=\"text-align: right;\">\n",
              "      <th></th>\n",
              "      <th>text</th>\n",
              "      <th>word_labels</th>\n",
              "    </tr>\n",
              "  </thead>\n",
              "  <tbody>\n",
              "    <tr>\n",
              "      <th>0</th>\n",
              "      <td>Suite Ã  ce billet sur le climat, je vous prop...</td>\n",
              "      <td>O,O,O,O,O,O,O,O,O,O,O,O,O,O,O,O,O,O,O,O,O,O,O,...</td>\n",
              "    </tr>\n",
              "    <tr>\n",
              "      <th>1</th>\n",
              "      <td>Rappelons pourtant que la consommation des Ã©n...</td>\n",
              "      <td>O,O,O,O,O,O,O,O,O,O,O,O,O,O,O,O,O,O,O,O,O,O,O,...</td>\n",
              "    </tr>\n",
              "    <tr>\n",
              "      <th>2</th>\n",
              "      <td>Cela finit par beaucoup polluer lâatmosphÃ¨r...</td>\n",
              "      <td>O,O,O,O,O,O,O,O,O,O,O,O,O,O,O,O,O,O,O,O,O,O,O,...</td>\n",
              "    </tr>\n",
              "    <tr>\n",
              "      <th>5</th>\n",
              "      <td>Or lâatmosphÃ¨re pÃ¨se environ 5,2 millions ...</td>\n",
              "      <td>O,O,O,O,O,O,O,O,O,O,O,O,O,O,O,O,O,O,O,O,O,O,O,...</td>\n",
              "    </tr>\n",
              "    <tr>\n",
              "      <th>6</th>\n",
              "      <td>Les Ã©missions humaines issues des combustible...</td>\n",
              "      <td>O,O,O,O,O,O,O,O,O,O,O,O,O,O,O,O,O,O,O,O,O,O,O,...</td>\n",
              "    </tr>\n",
              "  </tbody>\n",
              "</table>\n",
              "</div>"
            ],
            "text/plain": [
              "                                                text  \\\n",
              "0  Suite Ã  ce billet sur le climat, je vous prop...   \n",
              "1  Rappelons pourtant que la consommation des Ã©n...   \n",
              "2  Cela finit par beaucoup polluer lâatmosphÃ¨r...   \n",
              "5  Or lâatmosphÃ¨re pÃ¨se environ 5,2 millions ...   \n",
              "6  Les Ã©missions humaines issues des combustible...   \n",
              "\n",
              "                                         word_labels  \n",
              "0  O,O,O,O,O,O,O,O,O,O,O,O,O,O,O,O,O,O,O,O,O,O,O,...  \n",
              "1  O,O,O,O,O,O,O,O,O,O,O,O,O,O,O,O,O,O,O,O,O,O,O,...  \n",
              "2  O,O,O,O,O,O,O,O,O,O,O,O,O,O,O,O,O,O,O,O,O,O,O,...  \n",
              "5  O,O,O,O,O,O,O,O,O,O,O,O,O,O,O,O,O,O,O,O,O,O,O,...  \n",
              "6  O,O,O,O,O,O,O,O,O,O,O,O,O,O,O,O,O,O,O,O,O,O,O,...  "
            ]
          },
          "execution_count": 3,
          "metadata": {},
          "output_type": "execute_result"
        }
      ],
      "source": [
        "data = pd.read_csv(\"word_labels_per_par.csv\", encoding='unicode_escape')\n",
        "data = data.drop(columns=['Unnamed: 0'])\n",
        "data = data[data[\"word_labels\"] != 'O']\n",
        "\n",
        "array = data.to_numpy()\n",
        "data.head()"
      ]
    },
    {
      "cell_type": "markdown",
      "metadata": {
        "id": "ucYjhq6uRAmY"
      },
      "source": [
        "Let's check how many sentences and words (and corresponding tags) there are in this dataset:"
      ]
    },
    {
      "cell_type": "code",
      "execution_count": 4,
      "metadata": {
        "colab": {
          "base_uri": "https://localhost:8080/",
          "height": 101
        },
        "id": "6gMibEJXTKDw",
        "outputId": "940acb23-8bc2-4582-fca0-99008ebaf578"
      },
      "outputs": [
        {
          "data": {
            "text/plain": [
              "text           30702\n",
              "word_labels    30702\n",
              "dtype: int64"
            ]
          },
          "execution_count": 4,
          "metadata": {},
          "output_type": "execute_result"
        }
      ],
      "source": [
        "data.count()"
      ]
    },
    {
      "cell_type": "code",
      "execution_count": 5,
      "metadata": {
        "colab": {
          "base_uri": "https://localhost:8080/",
          "height": 336
        },
        "id": "76iAeu2_XPZb",
        "outputId": "788eb31f-8af8-438c-aaf8-a0b5e69951ee",
        "tags": []
      },
      "outputs": [
        {
          "name": "stdout",
          "output_type": "stream",
          "text": [
            "Number of tags: 14\n",
            "{'O': 1915991, 'B-3': 196, 'I-3': 2366, 'L-3': 196, 'B-2': 141, 'I-2': 2107, 'L-2': 141, '-': 2542, 'B-1': 17, 'I-1': 169, 'L-1': 17, 'U-2': 4, 'U-1': 1, 'U-3': 1}\n"
          ]
        }
      ],
      "source": [
        "tags = {}\n",
        "for word_labels in array[:,1]:\n",
        "    for c in word_labels.split(','):\n",
        "        if c not in tags.keys():\n",
        "            tags[c] = 1\n",
        "        else:\n",
        "            tags[c] += 1\n",
        "\n",
        "print(\"Number of tags: {}\".format(len(tags.keys())))\n",
        "print(tags)"
      ]
    },
    {
      "cell_type": "markdown",
      "metadata": {
        "id": "HKvKdtxKXPZg"
      },
      "source": [
        "Let's suppose that '-' (too long annotations) are fake news (label 3). Lets also remove correct annotations (label 1)"
      ]
    },
    {
      "cell_type": "code",
      "execution_count": 6,
      "metadata": {},
      "outputs": [
        {
          "name": "stdout",
          "output_type": "stream",
          "text": [
            "Number of tags: 9\n",
            "{'O': 1916195, 'B-3': 370, 'I-3': 4563, 'L-3': 367, 'B-2': 141, 'I-2': 2107, 'L-2': 141, 'U-2': 4, 'U-3': 1}\n"
          ]
        }
      ],
      "source": [
        "# Replace long annotations by fake annotations\n",
        "for idx in range(len(array[:, 1])):\n",
        "    word_labels = array[idx, 1].split(',')\n",
        "    previous_label = ''\n",
        "    for label_idx, label in enumerate(word_labels):\n",
        "        if label == '-':\n",
        "            if previous_label != '-':\n",
        "                word_labels[label_idx] = 'B-3'\n",
        "            else:\n",
        "                if label_idx < len(word_labels) - 1:\n",
        "                    if word_labels[label_idx + 1] != '-':\n",
        "                        word_labels[label_idx] = 'L-3'\n",
        "                    else:\n",
        "                        word_labels[label_idx] = 'I-3'\n",
        "                else:\n",
        "                    word_labels[label_idx] = 'L-3'\n",
        "        previous_label = label\n",
        "    array[idx, 1] = ','.join(word_labels)\n",
        "\n",
        "# Remove correct annotations\n",
        "CORRECT_LABELS = ['B-1', 'U-1', 'I-1', 'L-1']\n",
        "for idx in range(len(array[:, 1])):\n",
        "    word_labels = array[idx, 1].split(',')\n",
        "    for label_idx, label in enumerate(word_labels):\n",
        "        if label in CORRECT_LABELS:\n",
        "            word_labels[label_idx] = 'O'\n",
        "    array[idx, 1] = ','.join(word_labels)\n",
        "\n",
        "tags = {}\n",
        "for word_labels in array[:,1]:\n",
        "    for c in word_labels.split(','):\n",
        "        if c not in tags.keys():\n",
        "            tags[c] = 1\n",
        "        else:\n",
        "            tags[c] += 1\n",
        "\n",
        "print(\"Number of tags: {}\".format(len(tags.keys())))\n",
        "print(tags)"
      ]
    },
    {
      "cell_type": "markdown",
      "metadata": {
        "id": "JsjhdQbE-Lve"
      },
      "source": [
        "We create 2 dictionaries: one that maps individual tags to indices, and one that maps indices to their individual tags. This is necessary in order to create the labels (as computers work with numbers = indices, rather than words = tags) - see further in this notebook."
      ]
    },
    {
      "cell_type": "code",
      "execution_count": 7,
      "metadata": {
        "colab": {
          "base_uri": "https://localhost:8080/",
          "height": 202
        },
        "id": "CFRDM8WsQXvL",
        "outputId": "c2dc13d0-24a5-49ad-f221-cef12fd26882"
      },
      "outputs": [
        {
          "data": {
            "text/plain": [
              "{'O': 0,\n",
              " 'B-3': 1,\n",
              " 'I-3': 2,\n",
              " 'L-3': 3,\n",
              " 'B-2': 4,\n",
              " 'I-2': 5,\n",
              " 'L-2': 6,\n",
              " 'U-2': 7,\n",
              " 'U-3': 8}"
            ]
          },
          "execution_count": 7,
          "metadata": {},
          "output_type": "execute_result"
        }
      ],
      "source": [
        "labels_to_ids = {k: v for v, k in enumerate(tags.keys())}\n",
        "ids_to_labels = {v: k for v, k in enumerate(tags.keys())}\n",
        "labels_to_ids"
      ]
    },
    {
      "cell_type": "markdown",
      "metadata": {
        "id": "J08Cvk_USgbM"
      },
      "source": [
        "Let's replace the word_labels by the new ones"
      ]
    },
    {
      "cell_type": "code",
      "execution_count": 23,
      "metadata": {},
      "outputs": [
        {
          "name": "stdout",
          "output_type": "stream",
          "text": [
            "                                                text  \\\n",
            "0  Liliane nous propose une rÃ©tro-news sur le de...   \n",
            "1  \"L'humanitÃ© doit faire des plans pour quitter...   \n",
            "2  Les jours de notre planÃ¨te sont comptÃ©s. Lor...   \n",
            "3  Comme il existe des grands festivals musicaux,...   \n",
            "4  DÃ©pitÃ© et exaspÃ©rÃ© par la Â« nÃ©gation Â» ...   \n",
            "\n",
            "                                         word_labels  \n",
            "0  O,O,O,O,O,O,O,O,O,O,O,O,O,O,O,O,O,O,O,O,O,O,O,...  \n",
            "1  O,O,O,O,O,O,O,O,O,O,O,O,O,B-2,I-2,I-2,I-2,L-2,...  \n",
            "2  O,O,O,O,O,O,O,O,O,O,O,O,O,O,O,O,O,O,O,O,O,O,O,...  \n",
            "3  O,O,O,O,O,O,O,O,O,O,O,O,O,O,B-2,L-2,O,O,O,O,O,...  \n",
            "4  O,O,O,O,O,O,O,O,O,O,O,O,O,B-3,I-3,I-3,I-3,I-3,...  \n"
          ]
        }
      ],
      "source": [
        "# USELESS : extract the annotated_paragraphs\n",
        "annotated_paragraphs = []\n",
        "\n",
        "for i, word_labels in enumerate(array[:, 1]):\n",
        "    split = word_labels.split(',')\n",
        "    for s in split:\n",
        "        if s in list(labels_to_ids.keys())[1:]:\n",
        "            annotated_paragraphs.append(array[i])\n",
        "            break\n",
        "\n",
        "annotated_paragraphs_df = pd.DataFrame(annotated_paragraphs, columns=[\"text\", \"word_labels\"])\n",
        "print(annotated_paragraphs_df.head())\n",
        "# annotated_paragraphs_df.to_csv(\"annotated_paragraphs.csv\")"
      ]
    },
    {
      "cell_type": "code",
      "execution_count": 24,
      "metadata": {
        "colab": {
          "base_uri": "https://localhost:8080/",
          "height": 195
        },
        "id": "SrEgd4PZUgmF",
        "outputId": "d984be66-e8c2-41ca-834d-1dfd8bb147a9"
      },
      "outputs": [],
      "source": [
        "# data[\"word_labels\"] = array[:, 1]\n",
        "# data.head()"
      ]
    },
    {
      "cell_type": "code",
      "execution_count": 25,
      "metadata": {},
      "outputs": [],
      "source": [
        "# indexes = []\n",
        "\n",
        "# print(len(array[:, 1]), len(data))\n",
        "\n",
        "# for idx, word_labels in enumerate(array[:, 1]):\n",
        "#     split = word_labels.split(',')\n",
        "#     unique = list(set(split))\n",
        "#     if len(unique) == 1:\n",
        "#             indexes.append(idx)\n",
        "\n",
        "# data = data.drop(data.index[indexes])\n",
        "\n",
        "data = annotated_paragraphs_df"
      ]
    },
    {
      "cell_type": "code",
      "execution_count": 26,
      "metadata": {
        "colab": {
          "base_uri": "https://localhost:8080/",
          "height": 34
        },
        "id": "r3ArUiVRqw0C",
        "outputId": "04d85a07-22fe-4892-e182-a8f0bace2d9a"
      },
      "outputs": [
        {
          "name": "stdout",
          "output_type": "stream",
          "text": [
            "369\n",
            "                                                text  \\\n",
            "0  Liliane nous propose une rÃ©tro-news sur le de...   \n",
            "1  \"L'humanitÃ© doit faire des plans pour quitter...   \n",
            "2  Les jours de notre planÃ¨te sont comptÃ©s. Lor...   \n",
            "3  Comme il existe des grands festivals musicaux,...   \n",
            "4  DÃ©pitÃ© et exaspÃ©rÃ© par la Â« nÃ©gation Â» ...   \n",
            "\n",
            "                                         word_labels  \n",
            "0  O,O,O,O,O,O,O,O,O,O,O,O,O,O,O,O,O,O,O,O,O,O,O,...  \n",
            "1  O,O,O,O,O,O,O,O,O,O,O,O,O,B-2,I-2,I-2,I-2,L-2,...  \n",
            "2  O,O,O,O,O,O,O,O,O,O,O,O,O,O,O,O,O,O,O,O,O,O,O,...  \n",
            "3  O,O,O,O,O,O,O,O,O,O,O,O,O,O,B-2,L-2,O,O,O,O,O,...  \n",
            "4  O,O,O,O,O,O,O,O,O,O,O,O,O,B-3,I-3,I-3,I-3,I-3,...  \n"
          ]
        }
      ],
      "source": [
        "print(len(data))\n",
        "print(data.head())"
      ]
    },
    {
      "cell_type": "markdown",
      "metadata": {
        "id": "U8obZumRTBrT"
      },
      "source": [
        "Let's verify that a random sentence and its corresponding tags are correct:"
      ]
    },
    {
      "cell_type": "code",
      "execution_count": 27,
      "metadata": {
        "colab": {
          "base_uri": "https://localhost:8080/",
          "height": 35
        },
        "id": "eUvupomW_fbe",
        "outputId": "2f215e44-b342-4ee4-cee2-a7d5651c7b17"
      },
      "outputs": [
        {
          "data": {
            "text/plain": [
              "'Pas de vision, pas de projet, pas dâ\\x80\\x99idÃ©e, pas de profondeur, aucune imagination, rien, nada, que dalle, sinon une enfilade de gÃ©nÃ©ralitÃ©s du niveau dâ\\x80\\x99un fils de famille pistonnÃ© de Sciences Po. On pensait le demi-finaliste de 2002 plus affÃ»tÃ©, plus conquÃ©rant, plus construit politiquement : il nâ\\x80\\x99en est rien. Ainsi doit-on rÃ©sumer lâ\\x80\\x99interview trÃ¨s complaisante de lâ\\x80\\x99ancien Premier ministre socialiste Lionel Jospin par la douce Olivia Gesbert sur France Culture. '"
            ]
          },
          "execution_count": 27,
          "metadata": {},
          "output_type": "execute_result"
        }
      ],
      "source": [
        "data.iloc[41].text"
      ]
    },
    {
      "cell_type": "code",
      "execution_count": 28,
      "metadata": {
        "colab": {
          "base_uri": "https://localhost:8080/",
          "height": 35
        },
        "id": "0dLyY3Oi_lvp",
        "outputId": "eff7a782-ad2e-46c0-e25b-33691a07e200"
      },
      "outputs": [
        {
          "data": {
            "text/plain": [
              "'B-2,I-2,I-2,I-2,I-2,I-2,I-2,I-2,I-2,I-2,I-2,I-2,I-2,I-2,I-2,I-2,I-2,I-2,I-2,I-2,I-2,I-2,I-2,I-2,I-2,I-2,I-2,I-2,I-2,I-2,I-2,I-2,I-2,I-2,I-2,I-2,I-2,I-2,I-2,I-2,I-2,L-2,O,O,O,O,O,O,O,O,O,O,O,O,O,O,O,O,O,O,O,O,O,O,O,O,O,O,O,O,O,O,O,O,O,O,O,O,O,O,O,O,O,O,O,O,O,O,O,O'"
            ]
          },
          "execution_count": 28,
          "metadata": {},
          "output_type": "execute_result"
        }
      ],
      "source": [
        "data.iloc[41].word_labels"
      ]
    },
    {
      "cell_type": "markdown",
      "metadata": {
        "id": "f5EHpuB78pIa"
      },
      "source": [
        "#### **Preparing the dataset and dataloader**"
      ]
    },
    {
      "cell_type": "markdown",
      "metadata": {
        "id": "15x7zmZnTgFx"
      },
      "source": [
        "Now that our data is preprocessed, we can turn it into PyTorch tensors such that we can provide it to the model. Let's start by defining some key variables that will be used later on in the training/evaluation process:"
      ]
    },
    {
      "cell_type": "code",
      "execution_count": 24,
      "metadata": {
        "id": "lgNSM8Xz79Mg",
        "tags": []
      },
      "outputs": [],
      "source": [
        "MAX_LEN = 256\n",
        "TRAIN_BATCH_SIZE = 4\n",
        "VALID_BATCH_SIZE = 2\n",
        "EPOCHS = 1\n",
        "LEARNING_RATE = 1e-05\n",
        "MAX_GRAD_NORM = 10\n",
        "tokenizer = CamembertTokenizerFast.from_pretrained('camembert-base', do_lower_case=True)"
      ]
    },
    {
      "cell_type": "markdown",
      "metadata": {
        "id": "wPYV2Ld6Tr5I"
      },
      "source": [
        "A tricky part of NER with BERT is that BERT relies on **wordpiece tokenization**, rather than word tokenization. This means that we should also define the labels at the wordpiece-level, rather than the word-level! \n",
        "\n",
        "For example, if you have word like \"Washington\" which is labeled as \"b-gpe\", but it gets tokenized to \"Wash\", \"##ing\", \"##ton\", then one approach could be to handle this by only train the model on the tag labels for the first word piece token of a word (i.e. only label \"Wash\" with \"b-gpe\"). This is what was done in the original BERT paper, see Github discussion [here](https://github.com/huggingface/transformers/issues/64#issuecomment-443703063).\n",
        "\n",
        "Note that this is a **design decision**. You could also decide to propagate the original label of the word to all of its word pieces and let the model train on this. In that case, the model should be able to produce the correct labels for each individual wordpiece. This was done in [this NER tutorial with BERT](https://github.com/chambliss/Multilingual_NER/blob/master/python/utils/main_utils.py#L118). Another design decision could be to give the first wordpiece of each word the original word label, and then use the label “X” for all subsequent subwords of that word. All of them seem to lead to good performance.\n",
        "\n",
        "Below, we define a regular PyTorch [dataset class](https://pytorch.org/docs/stable/data.html) (which transforms examples of a dataframe to PyTorch tensors). Here, each sentence gets tokenized, the special tokens that BERT expects are added, the tokens are padded or truncated based on the max length of the model, the attention mask is created and the labels are created based on the dictionary which we defined above. Word pieces that should be ignored have a label of -100 (which is the default `ignore_index` of PyTorch's [CrossEntropyLoss](https://pytorch.org/docs/stable/generated/torch.nn.CrossEntropyLoss.html)).\n",
        "\n",
        "For more information about BERT's inputs, see [here](https://huggingface.co/transformers/glossary.html). \n",
        "\n",
        "\n",
        "\n",
        "\n",
        "\n",
        "\n"
      ]
    },
    {
      "cell_type": "code",
      "execution_count": 61,
      "metadata": {
        "id": "Eh3ckSO0YMZW"
      },
      "outputs": [],
      "source": [
        "class dataset(Dataset):\n",
        "  def __init__(self, dataframe, tokenizer, max_len):\n",
        "        self.len = len(dataframe)\n",
        "        self.data = dataframe\n",
        "        self.tokenizer = tokenizer\n",
        "        self.max_len = max_len\n",
        "\n",
        "  def __getitem__(self, index):\n",
        "        # step 1: get the sentence and word labels \n",
        "        sentence = self.data.text[index].strip().split()  \n",
        "        word_labels = self.data.word_labels[index].split(\",\") \n",
        "\n",
        "        # step 2: use tokenizer to encode sentence (includes padding/truncation up to max length)\n",
        "        # BertTokenizerFast provides a handy \"return_offsets_mapping\" functionality for individual tokens\n",
        "        encoding = self.tokenizer(sentence,\n",
        "                             is_split_into_words=True, \n",
        "                             return_offsets_mapping=True, \n",
        "                             padding='max_length', \n",
        "                             truncation=True, \n",
        "                             max_length=self.max_len)\n",
        "        \n",
        "        # step 3: create token labels only for first word pieces of each tokenized word\n",
        "        labels = [labels_to_ids[label] for label in word_labels] \n",
        "        # code based on https://huggingface.co/transformers/custom_datasets.html#tok-ner\n",
        "        # create an empty array of -100 of length max_length\n",
        "        encoded_labels = np.ones(len(encoding[\"offset_mapping\"]), dtype=int) * -100\n",
        "        \n",
        "        # set only labels whose first offset position is 0 and the second is not 0\n",
        "        i = 0\n",
        "        for idx, mapping in enumerate(encoding[\"offset_mapping\"]):\n",
        "          if mapping[0] == 0 and mapping[1] != 0:\n",
        "            # overwrite label\n",
        "            label = labels[i]\n",
        "            encoded_labels[idx] = label\n",
        "            i += 1\n",
        "\n",
        "        # step 4: turn everything into PyTorch tensors\n",
        "        item = {key: torch.as_tensor(val) for key, val in encoding.items()}\n",
        "        item['labels'] = torch.as_tensor(encoded_labels)\n",
        "        \n",
        "        return item\n",
        "\n",
        "  def __len__(self):\n",
        "        return self.len"
      ]
    },
    {
      "cell_type": "markdown",
      "metadata": {
        "id": "hTP7zuWGWGUd"
      },
      "source": [
        "Now, based on the class we defined above, we can create 2 datasets, one for training and one for testing. Let's use a 80/20 split:"
      ]
    },
    {
      "cell_type": "code",
      "execution_count": 62,
      "metadata": {
        "colab": {
          "base_uri": "https://localhost:8080/",
          "height": 67
        },
        "id": "jrkdZBLYHVcB",
        "outputId": "5c231116-119e-42b6-ff69-a7db95c8f354",
        "tags": []
      },
      "outputs": [
        {
          "name": "stdout",
          "output_type": "stream",
          "text": [
            "FULL Dataset: (30702, 2)\n",
            "TRAIN Dataset: (24562, 2)\n",
            "TEST Dataset: (6140, 2)\n"
          ]
        }
      ],
      "source": [
        "train_size = 0.8\n",
        "train_dataset = data.sample(frac=train_size,random_state=200)\n",
        "test_dataset = data.drop(train_dataset.index).reset_index(drop=True)\n",
        "train_dataset = train_dataset.reset_index(drop=True)\n",
        "\n",
        "print(\"FULL Dataset: {}\".format(data.shape))\n",
        "print(\"TRAIN Dataset: {}\".format(train_dataset.shape))\n",
        "print(\"TEST Dataset: {}\".format(test_dataset.shape))\n",
        "\n",
        "training_set = dataset(train_dataset, tokenizer, MAX_LEN)\n",
        "testing_set = dataset(test_dataset, tokenizer, MAX_LEN)"
      ]
    },
    {
      "cell_type": "markdown",
      "metadata": {
        "id": "Ptv5AT_iTb7W"
      },
      "source": [
        "Let's have a look at the first training example:"
      ]
    },
    {
      "cell_type": "code",
      "execution_count": 63,
      "metadata": {
        "colab": {
          "base_uri": "https://localhost:8080/",
          "height": 1000
        },
        "id": "phmPylgAm8Xy",
        "outputId": "9ad349fb-eca4-4871-eccf-435f7924fe07"
      },
      "outputs": [
        {
          "data": {
            "text/plain": [
              "{'input_ids': tensor([    5,   211,    23,   724,  5744,   312,  1137,  1370,  1190,    21,\n",
              "             3,  3728,    54,  1018,    25, 23347, 21911,    43, 14433,    22,\n",
              "          3343,    14, 27001,  1370,  1190,    37,    20, 25339,    10,    21,\n",
              "             3,  1502,  6998,   772, 10556,   110,    33,    33,   362, 10528,\n",
              "          1370,  1190,    27,    16, 23347, 21911,  4438,  1190,  4247,    21,\n",
              "             3,  3728,  2116, 19204,  1370,  1190,     8,   497,  1876,   255,\n",
              "          1370,  1190,    10,    14,    72,    26,  5332,   255,  1370,  1190,\n",
              "            10,    31, 11175,    48,  4350,   192,    16,   351,     8,    17,\n",
              "          1991,     3,  1370,  1190, 12129,     7,   112,    48, 11929,    46,\n",
              "          1991,     3,   240,    56,    29,    28,  2413,  8054,  1370,  1190,\n",
              "          1370,  1190,    35,    37,    19,   378, 17333,  1190,    81,  1370,\n",
              "          6299,   115,  1370,  3188,    10,    46,  1991,     3,   240, 11175,\n",
              "          6871,     9,    21,     3,   615,     6,     1,     1,     1,     1,\n",
              "             1,     1,     1,     1,     1,     1,     1,     1,     1,     1,\n",
              "             1,     1,     1,     1,     1,     1,     1,     1,     1,     1,\n",
              "             1,     1,     1,     1,     1,     1,     1,     1,     1,     1,\n",
              "             1,     1,     1,     1,     1,     1,     1,     1,     1,     1,\n",
              "             1,     1,     1,     1,     1,     1,     1,     1,     1,     1,\n",
              "             1,     1,     1,     1,     1,     1,     1,     1,     1,     1,\n",
              "             1,     1,     1,     1,     1,     1,     1,     1,     1,     1,\n",
              "             1,     1,     1,     1,     1,     1,     1,     1,     1,     1,\n",
              "             1,     1,     1,     1,     1,     1,     1,     1,     1,     1,\n",
              "             1,     1,     1,     1,     1,     1,     1,     1,     1,     1,\n",
              "             1,     1,     1,     1,     1,     1,     1,     1,     1,     1,\n",
              "             1,     1,     1,     1,     1,     1,     1,     1,     1,     1,\n",
              "             1,     1,     1,     1,     1,     1]),\n",
              " 'attention_mask': tensor([1, 1, 1, 1, 1, 1, 1, 1, 1, 1, 1, 1, 1, 1, 1, 1, 1, 1, 1, 1, 1, 1, 1, 1,\n",
              "         1, 1, 1, 1, 1, 1, 1, 1, 1, 1, 1, 1, 1, 1, 1, 1, 1, 1, 1, 1, 1, 1, 1, 1,\n",
              "         1, 1, 1, 1, 1, 1, 1, 1, 1, 1, 1, 1, 1, 1, 1, 1, 1, 1, 1, 1, 1, 1, 1, 1,\n",
              "         1, 1, 1, 1, 1, 1, 1, 1, 1, 1, 1, 1, 1, 1, 1, 1, 1, 1, 1, 1, 1, 1, 1, 1,\n",
              "         1, 1, 1, 1, 1, 1, 1, 1, 1, 1, 1, 1, 1, 1, 1, 1, 1, 1, 1, 1, 1, 1, 1, 1,\n",
              "         1, 1, 1, 1, 1, 1, 0, 0, 0, 0, 0, 0, 0, 0, 0, 0, 0, 0, 0, 0, 0, 0, 0, 0,\n",
              "         0, 0, 0, 0, 0, 0, 0, 0, 0, 0, 0, 0, 0, 0, 0, 0, 0, 0, 0, 0, 0, 0, 0, 0,\n",
              "         0, 0, 0, 0, 0, 0, 0, 0, 0, 0, 0, 0, 0, 0, 0, 0, 0, 0, 0, 0, 0, 0, 0, 0,\n",
              "         0, 0, 0, 0, 0, 0, 0, 0, 0, 0, 0, 0, 0, 0, 0, 0, 0, 0, 0, 0, 0, 0, 0, 0,\n",
              "         0, 0, 0, 0, 0, 0, 0, 0, 0, 0, 0, 0, 0, 0, 0, 0, 0, 0, 0, 0, 0, 0, 0, 0,\n",
              "         0, 0, 0, 0, 0, 0, 0, 0, 0, 0, 0, 0, 0, 0, 0, 0]),\n",
              " 'offset_mapping': tensor([[ 0,  0],\n",
              "         [ 0,  4],\n",
              "         [ 0,  2],\n",
              "         [ 0,  7],\n",
              "         [ 0,  3],\n",
              "         [ 3,  5],\n",
              "         [ 5,  7],\n",
              "         [ 7,  8],\n",
              "         [ 8,  9],\n",
              "         [ 0,  1],\n",
              "         [ 0,  1],\n",
              "         [ 1,  2],\n",
              "         [ 0,  2],\n",
              "         [ 0,  9],\n",
              "         [ 0,  2],\n",
              "         [ 0,  3],\n",
              "         [ 0,  5],\n",
              "         [ 0,  1],\n",
              "         [ 0,  6],\n",
              "         [ 0,  2],\n",
              "         [ 0,  6],\n",
              "         [ 0,  2],\n",
              "         [ 0,  6],\n",
              "         [ 6,  7],\n",
              "         [ 7,  8],\n",
              "         [ 0,  3],\n",
              "         [ 0,  3],\n",
              "         [ 0, 12],\n",
              "         [12, 13],\n",
              "         [ 0,  1],\n",
              "         [ 0,  1],\n",
              "         [ 1,  3],\n",
              "         [ 0,  6],\n",
              "         [ 0,  3],\n",
              "         [ 3,  6],\n",
              "         [ 6,  7],\n",
              "         [ 0,  1],\n",
              "         [ 0,  1],\n",
              "         [ 1,  2],\n",
              "         [ 2,  6],\n",
              "         [ 6,  7],\n",
              "         [ 7,  8],\n",
              "         [ 0,  3],\n",
              "         [ 0,  2],\n",
              "         [ 0,  3],\n",
              "         [ 0,  5],\n",
              "         [ 0,  1],\n",
              "         [ 1,  2],\n",
              "         [ 2,  6],\n",
              "         [ 0,  1],\n",
              "         [ 0,  1],\n",
              "         [ 1,  2],\n",
              "         [ 0, 14],\n",
              "         [ 0,  6],\n",
              "         [ 6,  7],\n",
              "         [ 7,  8],\n",
              "         [ 0,  2],\n",
              "         [ 0,  4],\n",
              "         [ 0,  7],\n",
              "         [ 7,  8],\n",
              "         [ 8,  9],\n",
              "         [ 9, 10],\n",
              "         [10, 11],\n",
              "         [ 0,  2],\n",
              "         [ 0,  4],\n",
              "         [ 4,  5],\n",
              "         [ 5, 14],\n",
              "         [14, 15],\n",
              "         [15, 16],\n",
              "         [16, 17],\n",
              "         [17, 18],\n",
              "         [ 0,  3],\n",
              "         [ 0,  7],\n",
              "         [ 0,  2],\n",
              "         [ 0,  6],\n",
              "         [ 0,  6],\n",
              "         [ 0,  2],\n",
              "         [ 0,  7],\n",
              "         [ 0,  2],\n",
              "         [ 0,  1],\n",
              "         [ 1,  2],\n",
              "         [ 2,  4],\n",
              "         [ 4,  5],\n",
              "         [ 5,  6],\n",
              "         [ 6, 10],\n",
              "         [10, 11],\n",
              "         [ 0,  4],\n",
              "         [ 0,  2],\n",
              "         [ 0,  6],\n",
              "         [ 0,  2],\n",
              "         [ 2,  3],\n",
              "         [ 3,  5],\n",
              "         [ 5,  8],\n",
              "         [ 0,  4],\n",
              "         [ 0,  4],\n",
              "         [ 0,  3],\n",
              "         [ 0, 12],\n",
              "         [ 0,  2],\n",
              "         [ 2,  3],\n",
              "         [ 3,  4],\n",
              "         [ 4,  5],\n",
              "         [ 5,  6],\n",
              "         [ 6,  7],\n",
              "         [ 0,  3],\n",
              "         [ 0,  3],\n",
              "         [ 0,  2],\n",
              "         [ 2,  4],\n",
              "         [ 4,  5],\n",
              "         [ 5,  6],\n",
              "         [ 6,  7],\n",
              "         [ 7, 10],\n",
              "         [ 0,  1],\n",
              "         [ 1,  2],\n",
              "         [ 2,  5],\n",
              "         [ 5,  6],\n",
              "         [ 0,  2],\n",
              "         [ 2,  3],\n",
              "         [ 3,  5],\n",
              "         [ 5,  8],\n",
              "         [ 0,  7],\n",
              "         [ 0,  9],\n",
              "         [ 9, 10],\n",
              "         [ 0,  1],\n",
              "         [ 0,  1],\n",
              "         [ 1,  2],\n",
              "         [ 0,  0],\n",
              "         [ 0,  0],\n",
              "         [ 0,  0],\n",
              "         [ 0,  0],\n",
              "         [ 0,  0],\n",
              "         [ 0,  0],\n",
              "         [ 0,  0],\n",
              "         [ 0,  0],\n",
              "         [ 0,  0],\n",
              "         [ 0,  0],\n",
              "         [ 0,  0],\n",
              "         [ 0,  0],\n",
              "         [ 0,  0],\n",
              "         [ 0,  0],\n",
              "         [ 0,  0],\n",
              "         [ 0,  0],\n",
              "         [ 0,  0],\n",
              "         [ 0,  0],\n",
              "         [ 0,  0],\n",
              "         [ 0,  0],\n",
              "         [ 0,  0],\n",
              "         [ 0,  0],\n",
              "         [ 0,  0],\n",
              "         [ 0,  0],\n",
              "         [ 0,  0],\n",
              "         [ 0,  0],\n",
              "         [ 0,  0],\n",
              "         [ 0,  0],\n",
              "         [ 0,  0],\n",
              "         [ 0,  0],\n",
              "         [ 0,  0],\n",
              "         [ 0,  0],\n",
              "         [ 0,  0],\n",
              "         [ 0,  0],\n",
              "         [ 0,  0],\n",
              "         [ 0,  0],\n",
              "         [ 0,  0],\n",
              "         [ 0,  0],\n",
              "         [ 0,  0],\n",
              "         [ 0,  0],\n",
              "         [ 0,  0],\n",
              "         [ 0,  0],\n",
              "         [ 0,  0],\n",
              "         [ 0,  0],\n",
              "         [ 0,  0],\n",
              "         [ 0,  0],\n",
              "         [ 0,  0],\n",
              "         [ 0,  0],\n",
              "         [ 0,  0],\n",
              "         [ 0,  0],\n",
              "         [ 0,  0],\n",
              "         [ 0,  0],\n",
              "         [ 0,  0],\n",
              "         [ 0,  0],\n",
              "         [ 0,  0],\n",
              "         [ 0,  0],\n",
              "         [ 0,  0],\n",
              "         [ 0,  0],\n",
              "         [ 0,  0],\n",
              "         [ 0,  0],\n",
              "         [ 0,  0],\n",
              "         [ 0,  0],\n",
              "         [ 0,  0],\n",
              "         [ 0,  0],\n",
              "         [ 0,  0],\n",
              "         [ 0,  0],\n",
              "         [ 0,  0],\n",
              "         [ 0,  0],\n",
              "         [ 0,  0],\n",
              "         [ 0,  0],\n",
              "         [ 0,  0],\n",
              "         [ 0,  0],\n",
              "         [ 0,  0],\n",
              "         [ 0,  0],\n",
              "         [ 0,  0],\n",
              "         [ 0,  0],\n",
              "         [ 0,  0],\n",
              "         [ 0,  0],\n",
              "         [ 0,  0],\n",
              "         [ 0,  0],\n",
              "         [ 0,  0],\n",
              "         [ 0,  0],\n",
              "         [ 0,  0],\n",
              "         [ 0,  0],\n",
              "         [ 0,  0],\n",
              "         [ 0,  0],\n",
              "         [ 0,  0],\n",
              "         [ 0,  0],\n",
              "         [ 0,  0],\n",
              "         [ 0,  0],\n",
              "         [ 0,  0],\n",
              "         [ 0,  0],\n",
              "         [ 0,  0],\n",
              "         [ 0,  0],\n",
              "         [ 0,  0],\n",
              "         [ 0,  0],\n",
              "         [ 0,  0],\n",
              "         [ 0,  0],\n",
              "         [ 0,  0],\n",
              "         [ 0,  0],\n",
              "         [ 0,  0],\n",
              "         [ 0,  0],\n",
              "         [ 0,  0],\n",
              "         [ 0,  0],\n",
              "         [ 0,  0],\n",
              "         [ 0,  0],\n",
              "         [ 0,  0],\n",
              "         [ 0,  0],\n",
              "         [ 0,  0],\n",
              "         [ 0,  0],\n",
              "         [ 0,  0],\n",
              "         [ 0,  0],\n",
              "         [ 0,  0],\n",
              "         [ 0,  0],\n",
              "         [ 0,  0],\n",
              "         [ 0,  0],\n",
              "         [ 0,  0],\n",
              "         [ 0,  0],\n",
              "         [ 0,  0],\n",
              "         [ 0,  0],\n",
              "         [ 0,  0],\n",
              "         [ 0,  0],\n",
              "         [ 0,  0],\n",
              "         [ 0,  0],\n",
              "         [ 0,  0],\n",
              "         [ 0,  0],\n",
              "         [ 0,  0],\n",
              "         [ 0,  0],\n",
              "         [ 0,  0],\n",
              "         [ 0,  0],\n",
              "         [ 0,  0]]),\n",
              " 'labels': tensor([-100,    0,    0,    0,    0, -100, -100, -100, -100,    0,    0, -100,\n",
              "            0,    0,    0,    0,    0,    0,    0,    0,    0,    0,    0, -100,\n",
              "         -100,    0,    0,    0, -100,    0,    0, -100,    0,    0, -100, -100,\n",
              "            0,    0, -100, -100, -100, -100,    0,    0,    0,    0,    0, -100,\n",
              "         -100,    0,    0, -100,    0,    0, -100, -100,    0,    0,    0, -100,\n",
              "         -100, -100, -100,    0,    0, -100, -100, -100, -100, -100, -100,    0,\n",
              "            0,    0,    0,    0,    0,    0,    0,    0, -100, -100, -100, -100,\n",
              "         -100, -100,    0,    0,    0,    0, -100, -100, -100,    0,    0,    0,\n",
              "            0,    0, -100, -100, -100, -100, -100,    0,    0,    0, -100, -100,\n",
              "         -100, -100, -100,    0, -100, -100, -100,    0, -100, -100, -100,    0,\n",
              "            0, -100,    0,    0, -100, -100, -100, -100, -100, -100, -100, -100,\n",
              "         -100, -100, -100, -100, -100, -100, -100, -100, -100, -100, -100, -100,\n",
              "         -100, -100, -100, -100, -100, -100, -100, -100, -100, -100, -100, -100,\n",
              "         -100, -100, -100, -100, -100, -100, -100, -100, -100, -100, -100, -100,\n",
              "         -100, -100, -100, -100, -100, -100, -100, -100, -100, -100, -100, -100,\n",
              "         -100, -100, -100, -100, -100, -100, -100, -100, -100, -100, -100, -100,\n",
              "         -100, -100, -100, -100, -100, -100, -100, -100, -100, -100, -100, -100,\n",
              "         -100, -100, -100, -100, -100, -100, -100, -100, -100, -100, -100, -100,\n",
              "         -100, -100, -100, -100, -100, -100, -100, -100, -100, -100, -100, -100,\n",
              "         -100, -100, -100, -100, -100, -100, -100, -100, -100, -100, -100, -100,\n",
              "         -100, -100, -100, -100, -100, -100, -100, -100, -100, -100, -100, -100,\n",
              "         -100, -100, -100, -100], dtype=torch.int32)}"
            ]
          },
          "execution_count": 63,
          "metadata": {},
          "output_type": "execute_result"
        }
      ],
      "source": [
        "print(training_set[0])"
      ]
    },
    {
      "cell_type": "markdown",
      "metadata": {
        "id": "VvU4nzL2W2Xo"
      },
      "source": [
        "Let's verify that the input ids and corresponding targets are correct:"
      ]
    },
    {
      "cell_type": "code",
      "execution_count": 64,
      "metadata": {
        "colab": {
          "base_uri": "https://localhost:8080/",
          "height": 1000
        },
        "id": "DWgnNJrYW2GP",
        "outputId": "46fee76c-ed3a-4aba-a38b-da6a0e4902d8",
        "tags": []
      },
      "outputs": [
        {
          "name": "stdout",
          "output_type": "stream",
          "text": [
            "<s>         -100\n",
            "▁Dans       0\n",
            "▁un         0\n",
            "▁article    0\n",
            "▁int        0\n",
            "it          -100\n",
            "ul          -100\n",
            "Ã           -100\n",
            "©           -100\n",
            "▁           0\n",
            "<unk>       0\n",
            "«           -100\n",
            "▁Le         0\n",
            "▁mouvement  0\n",
            "▁du         0\n",
            "▁Tea        0\n",
            "▁Party      0\n",
            "▁:          0\n",
            "▁induit     0\n",
            "▁en         0\n",
            "▁erreur     0\n",
            "▁et         0\n",
            "▁inspir     0\n",
            "Ã           -100\n",
            "©           -100\n",
            "▁par        0\n",
            "▁des        0\n",
            "▁milliardaire  0\n",
            "s           -100\n",
            "▁           0\n",
            "<unk>       0\n",
            "»,          -100\n",
            "▁George     0\n",
            "▁Mon        0\n",
            "bio         -100\n",
            "t           -100\n",
            "▁a          0\n",
            "▁a          0\n",
            "f           -100\n",
            "firm        -100\n",
            "Ã           -100\n",
            "©           -100\n",
            "▁que        0\n",
            "▁le         0\n",
            "▁Tea        0\n",
            "▁Party      0\n",
            "▁Ã          0\n",
            "©           -100\n",
            "tait        -100\n",
            "▁           0\n",
            "<unk>       0\n",
            "«           -100\n",
            "▁principalement  0\n",
            "▁compos     0\n",
            "Ã           -100\n",
            "©           -100\n",
            "▁de         0\n",
            "▁gens       0\n",
            "▁passion    0\n",
            "n           -100\n",
            "Ã           -100\n",
            "©           -100\n",
            "s           -100\n",
            "▁et         0\n",
            "▁bien       0\n",
            "-           -100\n",
            "intention   -100\n",
            "n           -100\n",
            "Ã           -100\n",
            "©           -100\n",
            "s           -100\n",
            "▁qui        0\n",
            "▁croient    0\n",
            "▁se         0\n",
            "▁battre     0\n",
            "▁contre     0\n",
            "▁le         0\n",
            "▁pouvoir    0\n",
            "▁de         0\n",
            "▁l          0\n",
            "â           -100\n",
            "<unk>       -100\n",
            "Ã           -100\n",
            "©           -100\n",
            "lite        -100\n",
            ",           -100\n",
            "▁sans       0\n",
            "▁se         0\n",
            "▁douter     0\n",
            "▁qu         0\n",
            "â           -100\n",
            "<unk>       -100\n",
            "ils         -100\n",
            "▁sont       0\n",
            "▁dans       0\n",
            "▁une        0\n",
            "▁organisation  0\n",
            "▁cr         0\n",
            "Ã           -100\n",
            "©           -100\n",
            "Ã           -100\n",
            "©           -100\n",
            "e           -100\n",
            "▁par        0\n",
            "▁les        0\n",
            "▁in         0\n",
            "tÃ          -100\n",
            "©           -100\n",
            "r           -100\n",
            "Ã           -100\n",
            "ats         -100\n",
            "▁m          0\n",
            "Ã           -100\n",
            "ame         -100\n",
            "s           -100\n",
            "▁qu         0\n",
            "â           -100\n",
            "<unk>       -100\n",
            "ils         -100\n",
            "▁croient    0\n",
            "▁combattre  0\n",
            ".           -100\n",
            "▁           0\n",
            "<unk>       0\n",
            "»           -100\n",
            "</s>        -100\n",
            "<pad>       -100\n",
            "<pad>       -100\n",
            "<pad>       -100\n",
            "<pad>       -100\n",
            "<pad>       -100\n",
            "<pad>       -100\n",
            "<pad>       -100\n",
            "<pad>       -100\n",
            "<pad>       -100\n",
            "<pad>       -100\n",
            "<pad>       -100\n",
            "<pad>       -100\n",
            "<pad>       -100\n",
            "<pad>       -100\n",
            "<pad>       -100\n",
            "<pad>       -100\n",
            "<pad>       -100\n",
            "<pad>       -100\n",
            "<pad>       -100\n",
            "<pad>       -100\n",
            "<pad>       -100\n",
            "<pad>       -100\n",
            "<pad>       -100\n",
            "<pad>       -100\n",
            "<pad>       -100\n",
            "<pad>       -100\n",
            "<pad>       -100\n",
            "<pad>       -100\n",
            "<pad>       -100\n",
            "<pad>       -100\n",
            "<pad>       -100\n",
            "<pad>       -100\n",
            "<pad>       -100\n",
            "<pad>       -100\n",
            "<pad>       -100\n",
            "<pad>       -100\n",
            "<pad>       -100\n",
            "<pad>       -100\n",
            "<pad>       -100\n",
            "<pad>       -100\n",
            "<pad>       -100\n",
            "<pad>       -100\n",
            "<pad>       -100\n",
            "<pad>       -100\n",
            "<pad>       -100\n",
            "<pad>       -100\n",
            "<pad>       -100\n",
            "<pad>       -100\n",
            "<pad>       -100\n",
            "<pad>       -100\n",
            "<pad>       -100\n",
            "<pad>       -100\n",
            "<pad>       -100\n",
            "<pad>       -100\n",
            "<pad>       -100\n",
            "<pad>       -100\n",
            "<pad>       -100\n",
            "<pad>       -100\n",
            "<pad>       -100\n",
            "<pad>       -100\n",
            "<pad>       -100\n",
            "<pad>       -100\n",
            "<pad>       -100\n",
            "<pad>       -100\n",
            "<pad>       -100\n",
            "<pad>       -100\n",
            "<pad>       -100\n",
            "<pad>       -100\n",
            "<pad>       -100\n",
            "<pad>       -100\n",
            "<pad>       -100\n",
            "<pad>       -100\n",
            "<pad>       -100\n",
            "<pad>       -100\n",
            "<pad>       -100\n",
            "<pad>       -100\n",
            "<pad>       -100\n",
            "<pad>       -100\n",
            "<pad>       -100\n",
            "<pad>       -100\n",
            "<pad>       -100\n",
            "<pad>       -100\n",
            "<pad>       -100\n",
            "<pad>       -100\n",
            "<pad>       -100\n",
            "<pad>       -100\n",
            "<pad>       -100\n",
            "<pad>       -100\n",
            "<pad>       -100\n",
            "<pad>       -100\n",
            "<pad>       -100\n",
            "<pad>       -100\n",
            "<pad>       -100\n",
            "<pad>       -100\n",
            "<pad>       -100\n",
            "<pad>       -100\n",
            "<pad>       -100\n",
            "<pad>       -100\n",
            "<pad>       -100\n",
            "<pad>       -100\n",
            "<pad>       -100\n",
            "<pad>       -100\n",
            "<pad>       -100\n",
            "<pad>       -100\n",
            "<pad>       -100\n",
            "<pad>       -100\n",
            "<pad>       -100\n",
            "<pad>       -100\n",
            "<pad>       -100\n",
            "<pad>       -100\n",
            "<pad>       -100\n",
            "<pad>       -100\n",
            "<pad>       -100\n",
            "<pad>       -100\n",
            "<pad>       -100\n",
            "<pad>       -100\n",
            "<pad>       -100\n",
            "<pad>       -100\n",
            "<pad>       -100\n",
            "<pad>       -100\n",
            "<pad>       -100\n",
            "<pad>       -100\n",
            "<pad>       -100\n",
            "<pad>       -100\n",
            "<pad>       -100\n",
            "<pad>       -100\n",
            "<pad>       -100\n",
            "<pad>       -100\n",
            "<pad>       -100\n",
            "<pad>       -100\n"
          ]
        }
      ],
      "source": [
        "for token, label in zip(tokenizer.convert_ids_to_tokens(training_set[0][\"input_ids\"]), training_set[0][\"labels\"]):\n",
        "  print('{0:10}  {1}'.format(token, label))"
      ]
    },
    {
      "cell_type": "markdown",
      "metadata": {
        "id": "Ky68FcTgWnfN"
      },
      "source": [
        "Now, let's define the corresponding PyTorch dataloaders:"
      ]
    },
    {
      "cell_type": "code",
      "execution_count": 65,
      "metadata": {
        "id": "KIw793myWOmi"
      },
      "outputs": [],
      "source": [
        "train_params = {'batch_size': TRAIN_BATCH_SIZE,\n",
        "                'shuffle': True,\n",
        "                'num_workers': 0\n",
        "                }\n",
        "\n",
        "test_params = {'batch_size': VALID_BATCH_SIZE,\n",
        "                'shuffle': True,\n",
        "                'num_workers': 0\n",
        "                }\n",
        "\n",
        "training_loader = DataLoader(training_set, **train_params)\n",
        "testing_loader = DataLoader(testing_set, **test_params)"
      ]
    },
    {
      "cell_type": "markdown",
      "metadata": {
        "id": "73OzU7oXRxR8"
      },
      "source": [
        "#### **Defining the model**"
      ]
    },
    {
      "cell_type": "markdown",
      "metadata": {
        "id": "T-iGhnhdLNdP"
      },
      "source": [
        "Here we define the model, BertForTokenClassification, and load it with the pretrained weights of \"bert-base-uncased\". The only thing we need to additionally specify is the number of labels (as this will determine the architecture of the classification head).\n",
        "\n",
        "Note that only the base layers are initialized with the pretrained weights. The token classification head of top has just randomly initialized weights, which we will train, together with the pretrained weights, using our labelled dataset. This is also printed as a warning when you run the code cell below.\n",
        "\n",
        "Then, we move the model to the GPU."
      ]
    },
    {
      "cell_type": "code",
      "execution_count": 66,
      "metadata": {
        "colab": {
          "base_uri": "https://localhost:8080/",
          "height": 1000,
          "referenced_widgets": [
            "7e472a723360459294ecf8e046dbcdfb",
            "5af2dda0fde845fca51f7f5e3d804834",
            "9be80d6ac6af4c18a6259a5ecf596645",
            "36dda379e65246fb99db9ec532fee7b7",
            "39fe4f4cda184f8ea8be13061cb06343",
            "a733276c36fa4969b5b0ed8e4c19cc36",
            "55fd0d8368e54d57a65d8ac964263b68",
            "7f736be4090948089a7419884006a414",
            "0528099bb9f3451f9706daf630eb97e5",
            "d1a13adac751439d829e1b19d4fad80e",
            "7d05f8de38324f858c67d5c0875a7228",
            "b73b1cf372ab4091bf3ddf885d0d102e",
            "b4ebed4a383d44be8fc29fa9063689a0",
            "e816383d82ab457b800eb97d63df80c8",
            "d08086bdee6c4bac9bf7ae49784146e1",
            "c66cbf2ea9b943c9b7d20dea218b369a"
          ]
        },
        "id": "cB9MR3KcWXUs",
        "outputId": "527586e3-eb7f-4b6d-93f0-2f932e1ab657",
        "tags": []
      },
      "outputs": [
        {
          "name": "stderr",
          "output_type": "stream",
          "text": [
            "Some weights of the model checkpoint at camembert-base were not used when initializing CamembertForTokenClassification: ['lm_head.layer_norm.weight', 'lm_head.dense.weight', 'lm_head.bias', 'lm_head.decoder.weight', 'lm_head.dense.bias', 'lm_head.layer_norm.bias']\n",
            "- This IS expected if you are initializing CamembertForTokenClassification from the checkpoint of a model trained on another task or with another architecture (e.g. initializing a BertForSequenceClassification model from a BertForPreTraining model).\n",
            "- This IS NOT expected if you are initializing CamembertForTokenClassification from the checkpoint of a model that you expect to be exactly identical (initializing a BertForSequenceClassification model from a BertForSequenceClassification model).\n",
            "Some weights of CamembertForTokenClassification were not initialized from the model checkpoint at camembert-base and are newly initialized: ['classifier.bias', 'classifier.weight']\n",
            "You should probably TRAIN this model on a down-stream task to be able to use it for predictions and inference.\n"
          ]
        },
        {
          "data": {
            "text/plain": [
              "CamembertForTokenClassification(\n",
              "  (roberta): RobertaModel(\n",
              "    (embeddings): RobertaEmbeddings(\n",
              "      (word_embeddings): Embedding(32005, 768, padding_idx=1)\n",
              "      (position_embeddings): Embedding(514, 768, padding_idx=1)\n",
              "      (token_type_embeddings): Embedding(1, 768)\n",
              "      (LayerNorm): LayerNorm((768,), eps=1e-05, elementwise_affine=True)\n",
              "      (dropout): Dropout(p=0.1, inplace=False)\n",
              "    )\n",
              "    (encoder): RobertaEncoder(\n",
              "      (layer): ModuleList(\n",
              "        (0): RobertaLayer(\n",
              "          (attention): RobertaAttention(\n",
              "            (self): RobertaSelfAttention(\n",
              "              (query): Linear(in_features=768, out_features=768, bias=True)\n",
              "              (key): Linear(in_features=768, out_features=768, bias=True)\n",
              "              (value): Linear(in_features=768, out_features=768, bias=True)\n",
              "              (dropout): Dropout(p=0.1, inplace=False)\n",
              "            )\n",
              "            (output): RobertaSelfOutput(\n",
              "              (dense): Linear(in_features=768, out_features=768, bias=True)\n",
              "              (LayerNorm): LayerNorm((768,), eps=1e-05, elementwise_affine=True)\n",
              "              (dropout): Dropout(p=0.1, inplace=False)\n",
              "            )\n",
              "          )\n",
              "          (intermediate): RobertaIntermediate(\n",
              "            (dense): Linear(in_features=768, out_features=3072, bias=True)\n",
              "          )\n",
              "          (output): RobertaOutput(\n",
              "            (dense): Linear(in_features=3072, out_features=768, bias=True)\n",
              "            (LayerNorm): LayerNorm((768,), eps=1e-05, elementwise_affine=True)\n",
              "            (dropout): Dropout(p=0.1, inplace=False)\n",
              "          )\n",
              "        )\n",
              "        (1): RobertaLayer(\n",
              "          (attention): RobertaAttention(\n",
              "            (self): RobertaSelfAttention(\n",
              "              (query): Linear(in_features=768, out_features=768, bias=True)\n",
              "              (key): Linear(in_features=768, out_features=768, bias=True)\n",
              "              (value): Linear(in_features=768, out_features=768, bias=True)\n",
              "              (dropout): Dropout(p=0.1, inplace=False)\n",
              "            )\n",
              "            (output): RobertaSelfOutput(\n",
              "              (dense): Linear(in_features=768, out_features=768, bias=True)\n",
              "              (LayerNorm): LayerNorm((768,), eps=1e-05, elementwise_affine=True)\n",
              "              (dropout): Dropout(p=0.1, inplace=False)\n",
              "            )\n",
              "          )\n",
              "          (intermediate): RobertaIntermediate(\n",
              "            (dense): Linear(in_features=768, out_features=3072, bias=True)\n",
              "          )\n",
              "          (output): RobertaOutput(\n",
              "            (dense): Linear(in_features=3072, out_features=768, bias=True)\n",
              "            (LayerNorm): LayerNorm((768,), eps=1e-05, elementwise_affine=True)\n",
              "            (dropout): Dropout(p=0.1, inplace=False)\n",
              "          )\n",
              "        )\n",
              "        (2): RobertaLayer(\n",
              "          (attention): RobertaAttention(\n",
              "            (self): RobertaSelfAttention(\n",
              "              (query): Linear(in_features=768, out_features=768, bias=True)\n",
              "              (key): Linear(in_features=768, out_features=768, bias=True)\n",
              "              (value): Linear(in_features=768, out_features=768, bias=True)\n",
              "              (dropout): Dropout(p=0.1, inplace=False)\n",
              "            )\n",
              "            (output): RobertaSelfOutput(\n",
              "              (dense): Linear(in_features=768, out_features=768, bias=True)\n",
              "              (LayerNorm): LayerNorm((768,), eps=1e-05, elementwise_affine=True)\n",
              "              (dropout): Dropout(p=0.1, inplace=False)\n",
              "            )\n",
              "          )\n",
              "          (intermediate): RobertaIntermediate(\n",
              "            (dense): Linear(in_features=768, out_features=3072, bias=True)\n",
              "          )\n",
              "          (output): RobertaOutput(\n",
              "            (dense): Linear(in_features=3072, out_features=768, bias=True)\n",
              "            (LayerNorm): LayerNorm((768,), eps=1e-05, elementwise_affine=True)\n",
              "            (dropout): Dropout(p=0.1, inplace=False)\n",
              "          )\n",
              "        )\n",
              "        (3): RobertaLayer(\n",
              "          (attention): RobertaAttention(\n",
              "            (self): RobertaSelfAttention(\n",
              "              (query): Linear(in_features=768, out_features=768, bias=True)\n",
              "              (key): Linear(in_features=768, out_features=768, bias=True)\n",
              "              (value): Linear(in_features=768, out_features=768, bias=True)\n",
              "              (dropout): Dropout(p=0.1, inplace=False)\n",
              "            )\n",
              "            (output): RobertaSelfOutput(\n",
              "              (dense): Linear(in_features=768, out_features=768, bias=True)\n",
              "              (LayerNorm): LayerNorm((768,), eps=1e-05, elementwise_affine=True)\n",
              "              (dropout): Dropout(p=0.1, inplace=False)\n",
              "            )\n",
              "          )\n",
              "          (intermediate): RobertaIntermediate(\n",
              "            (dense): Linear(in_features=768, out_features=3072, bias=True)\n",
              "          )\n",
              "          (output): RobertaOutput(\n",
              "            (dense): Linear(in_features=3072, out_features=768, bias=True)\n",
              "            (LayerNorm): LayerNorm((768,), eps=1e-05, elementwise_affine=True)\n",
              "            (dropout): Dropout(p=0.1, inplace=False)\n",
              "          )\n",
              "        )\n",
              "        (4): RobertaLayer(\n",
              "          (attention): RobertaAttention(\n",
              "            (self): RobertaSelfAttention(\n",
              "              (query): Linear(in_features=768, out_features=768, bias=True)\n",
              "              (key): Linear(in_features=768, out_features=768, bias=True)\n",
              "              (value): Linear(in_features=768, out_features=768, bias=True)\n",
              "              (dropout): Dropout(p=0.1, inplace=False)\n",
              "            )\n",
              "            (output): RobertaSelfOutput(\n",
              "              (dense): Linear(in_features=768, out_features=768, bias=True)\n",
              "              (LayerNorm): LayerNorm((768,), eps=1e-05, elementwise_affine=True)\n",
              "              (dropout): Dropout(p=0.1, inplace=False)\n",
              "            )\n",
              "          )\n",
              "          (intermediate): RobertaIntermediate(\n",
              "            (dense): Linear(in_features=768, out_features=3072, bias=True)\n",
              "          )\n",
              "          (output): RobertaOutput(\n",
              "            (dense): Linear(in_features=3072, out_features=768, bias=True)\n",
              "            (LayerNorm): LayerNorm((768,), eps=1e-05, elementwise_affine=True)\n",
              "            (dropout): Dropout(p=0.1, inplace=False)\n",
              "          )\n",
              "        )\n",
              "        (5): RobertaLayer(\n",
              "          (attention): RobertaAttention(\n",
              "            (self): RobertaSelfAttention(\n",
              "              (query): Linear(in_features=768, out_features=768, bias=True)\n",
              "              (key): Linear(in_features=768, out_features=768, bias=True)\n",
              "              (value): Linear(in_features=768, out_features=768, bias=True)\n",
              "              (dropout): Dropout(p=0.1, inplace=False)\n",
              "            )\n",
              "            (output): RobertaSelfOutput(\n",
              "              (dense): Linear(in_features=768, out_features=768, bias=True)\n",
              "              (LayerNorm): LayerNorm((768,), eps=1e-05, elementwise_affine=True)\n",
              "              (dropout): Dropout(p=0.1, inplace=False)\n",
              "            )\n",
              "          )\n",
              "          (intermediate): RobertaIntermediate(\n",
              "            (dense): Linear(in_features=768, out_features=3072, bias=True)\n",
              "          )\n",
              "          (output): RobertaOutput(\n",
              "            (dense): Linear(in_features=3072, out_features=768, bias=True)\n",
              "            (LayerNorm): LayerNorm((768,), eps=1e-05, elementwise_affine=True)\n",
              "            (dropout): Dropout(p=0.1, inplace=False)\n",
              "          )\n",
              "        )\n",
              "        (6): RobertaLayer(\n",
              "          (attention): RobertaAttention(\n",
              "            (self): RobertaSelfAttention(\n",
              "              (query): Linear(in_features=768, out_features=768, bias=True)\n",
              "              (key): Linear(in_features=768, out_features=768, bias=True)\n",
              "              (value): Linear(in_features=768, out_features=768, bias=True)\n",
              "              (dropout): Dropout(p=0.1, inplace=False)\n",
              "            )\n",
              "            (output): RobertaSelfOutput(\n",
              "              (dense): Linear(in_features=768, out_features=768, bias=True)\n",
              "              (LayerNorm): LayerNorm((768,), eps=1e-05, elementwise_affine=True)\n",
              "              (dropout): Dropout(p=0.1, inplace=False)\n",
              "            )\n",
              "          )\n",
              "          (intermediate): RobertaIntermediate(\n",
              "            (dense): Linear(in_features=768, out_features=3072, bias=True)\n",
              "          )\n",
              "          (output): RobertaOutput(\n",
              "            (dense): Linear(in_features=3072, out_features=768, bias=True)\n",
              "            (LayerNorm): LayerNorm((768,), eps=1e-05, elementwise_affine=True)\n",
              "            (dropout): Dropout(p=0.1, inplace=False)\n",
              "          )\n",
              "        )\n",
              "        (7): RobertaLayer(\n",
              "          (attention): RobertaAttention(\n",
              "            (self): RobertaSelfAttention(\n",
              "              (query): Linear(in_features=768, out_features=768, bias=True)\n",
              "              (key): Linear(in_features=768, out_features=768, bias=True)\n",
              "              (value): Linear(in_features=768, out_features=768, bias=True)\n",
              "              (dropout): Dropout(p=0.1, inplace=False)\n",
              "            )\n",
              "            (output): RobertaSelfOutput(\n",
              "              (dense): Linear(in_features=768, out_features=768, bias=True)\n",
              "              (LayerNorm): LayerNorm((768,), eps=1e-05, elementwise_affine=True)\n",
              "              (dropout): Dropout(p=0.1, inplace=False)\n",
              "            )\n",
              "          )\n",
              "          (intermediate): RobertaIntermediate(\n",
              "            (dense): Linear(in_features=768, out_features=3072, bias=True)\n",
              "          )\n",
              "          (output): RobertaOutput(\n",
              "            (dense): Linear(in_features=3072, out_features=768, bias=True)\n",
              "            (LayerNorm): LayerNorm((768,), eps=1e-05, elementwise_affine=True)\n",
              "            (dropout): Dropout(p=0.1, inplace=False)\n",
              "          )\n",
              "        )\n",
              "        (8): RobertaLayer(\n",
              "          (attention): RobertaAttention(\n",
              "            (self): RobertaSelfAttention(\n",
              "              (query): Linear(in_features=768, out_features=768, bias=True)\n",
              "              (key): Linear(in_features=768, out_features=768, bias=True)\n",
              "              (value): Linear(in_features=768, out_features=768, bias=True)\n",
              "              (dropout): Dropout(p=0.1, inplace=False)\n",
              "            )\n",
              "            (output): RobertaSelfOutput(\n",
              "              (dense): Linear(in_features=768, out_features=768, bias=True)\n",
              "              (LayerNorm): LayerNorm((768,), eps=1e-05, elementwise_affine=True)\n",
              "              (dropout): Dropout(p=0.1, inplace=False)\n",
              "            )\n",
              "          )\n",
              "          (intermediate): RobertaIntermediate(\n",
              "            (dense): Linear(in_features=768, out_features=3072, bias=True)\n",
              "          )\n",
              "          (output): RobertaOutput(\n",
              "            (dense): Linear(in_features=3072, out_features=768, bias=True)\n",
              "            (LayerNorm): LayerNorm((768,), eps=1e-05, elementwise_affine=True)\n",
              "            (dropout): Dropout(p=0.1, inplace=False)\n",
              "          )\n",
              "        )\n",
              "        (9): RobertaLayer(\n",
              "          (attention): RobertaAttention(\n",
              "            (self): RobertaSelfAttention(\n",
              "              (query): Linear(in_features=768, out_features=768, bias=True)\n",
              "              (key): Linear(in_features=768, out_features=768, bias=True)\n",
              "              (value): Linear(in_features=768, out_features=768, bias=True)\n",
              "              (dropout): Dropout(p=0.1, inplace=False)\n",
              "            )\n",
              "            (output): RobertaSelfOutput(\n",
              "              (dense): Linear(in_features=768, out_features=768, bias=True)\n",
              "              (LayerNorm): LayerNorm((768,), eps=1e-05, elementwise_affine=True)\n",
              "              (dropout): Dropout(p=0.1, inplace=False)\n",
              "            )\n",
              "          )\n",
              "          (intermediate): RobertaIntermediate(\n",
              "            (dense): Linear(in_features=768, out_features=3072, bias=True)\n",
              "          )\n",
              "          (output): RobertaOutput(\n",
              "            (dense): Linear(in_features=3072, out_features=768, bias=True)\n",
              "            (LayerNorm): LayerNorm((768,), eps=1e-05, elementwise_affine=True)\n",
              "            (dropout): Dropout(p=0.1, inplace=False)\n",
              "          )\n",
              "        )\n",
              "        (10): RobertaLayer(\n",
              "          (attention): RobertaAttention(\n",
              "            (self): RobertaSelfAttention(\n",
              "              (query): Linear(in_features=768, out_features=768, bias=True)\n",
              "              (key): Linear(in_features=768, out_features=768, bias=True)\n",
              "              (value): Linear(in_features=768, out_features=768, bias=True)\n",
              "              (dropout): Dropout(p=0.1, inplace=False)\n",
              "            )\n",
              "            (output): RobertaSelfOutput(\n",
              "              (dense): Linear(in_features=768, out_features=768, bias=True)\n",
              "              (LayerNorm): LayerNorm((768,), eps=1e-05, elementwise_affine=True)\n",
              "              (dropout): Dropout(p=0.1, inplace=False)\n",
              "            )\n",
              "          )\n",
              "          (intermediate): RobertaIntermediate(\n",
              "            (dense): Linear(in_features=768, out_features=3072, bias=True)\n",
              "          )\n",
              "          (output): RobertaOutput(\n",
              "            (dense): Linear(in_features=3072, out_features=768, bias=True)\n",
              "            (LayerNorm): LayerNorm((768,), eps=1e-05, elementwise_affine=True)\n",
              "            (dropout): Dropout(p=0.1, inplace=False)\n",
              "          )\n",
              "        )\n",
              "        (11): RobertaLayer(\n",
              "          (attention): RobertaAttention(\n",
              "            (self): RobertaSelfAttention(\n",
              "              (query): Linear(in_features=768, out_features=768, bias=True)\n",
              "              (key): Linear(in_features=768, out_features=768, bias=True)\n",
              "              (value): Linear(in_features=768, out_features=768, bias=True)\n",
              "              (dropout): Dropout(p=0.1, inplace=False)\n",
              "            )\n",
              "            (output): RobertaSelfOutput(\n",
              "              (dense): Linear(in_features=768, out_features=768, bias=True)\n",
              "              (LayerNorm): LayerNorm((768,), eps=1e-05, elementwise_affine=True)\n",
              "              (dropout): Dropout(p=0.1, inplace=False)\n",
              "            )\n",
              "          )\n",
              "          (intermediate): RobertaIntermediate(\n",
              "            (dense): Linear(in_features=768, out_features=3072, bias=True)\n",
              "          )\n",
              "          (output): RobertaOutput(\n",
              "            (dense): Linear(in_features=3072, out_features=768, bias=True)\n",
              "            (LayerNorm): LayerNorm((768,), eps=1e-05, elementwise_affine=True)\n",
              "            (dropout): Dropout(p=0.1, inplace=False)\n",
              "          )\n",
              "        )\n",
              "      )\n",
              "    )\n",
              "  )\n",
              "  (dropout): Dropout(p=0.1, inplace=False)\n",
              "  (classifier): Linear(in_features=768, out_features=9, bias=True)\n",
              ")"
            ]
          },
          "execution_count": 66,
          "metadata": {},
          "output_type": "execute_result"
        }
      ],
      "source": [
        "model = CamembertForTokenClassification.from_pretrained('camembert-base', num_labels=len(labels_to_ids))\n",
        "model.to(device)"
      ]
    },
    {
      "cell_type": "markdown",
      "metadata": {
        "id": "Pp7Yl4JyWhDj"
      },
      "source": [
        "#### **Training the model**\n",
        "\n",
        "Before training the model, let's perform a sanity check, which I learned thanks to Andrej Karpathy's wonderful [cs231n course](http://cs231n.stanford.edu/) at Stanford (see also his [blog post about debugging neural networks](http://karpathy.github.io/2019/04/25/recipe/)). The initial loss of your model should be close to -ln(1/number of classes) = -ln(1/17) = 2.83. \n",
        "\n",
        "Why? Because we are using cross entropy loss. The cross entropy loss is defined as -ln(probability score of the model for the correct class). In the beginning, the weights are random, so the probability distribution for all of the classes for a given token will be uniform, meaning that the probability for the correct class will be near 1/17. The loss for a given token will thus be -ln(1/17). As PyTorch's [CrossEntropyLoss](https://pytorch.org/docs/stable/generated/torch.nn.CrossEntropyLoss.html) (which is used by `BertForTokenClassification`) uses *mean reduction* by default, it will compute the mean loss for each of the tokens in the sequence for which a label is provided. \n",
        "\n",
        "Let's verify this:\n",
        "\n"
      ]
    },
    {
      "cell_type": "code",
      "execution_count": 67,
      "metadata": {},
      "outputs": [
        {
          "name": "stdout",
          "output_type": "stream",
          "text": [
            "dict_keys(['training', '_parameters', '_buffers', '_non_persistent_buffers_set', '_backward_hooks', '_is_full_backward_hook', '_forward_hooks', '_forward_pre_hooks', '_state_dict_hooks', '_load_state_dict_pre_hooks', '_modules', 'config', 'name_or_path', 'num_labels'])\n"
          ]
        }
      ],
      "source": [
        "print(model.__dict__.keys())"
      ]
    },
    {
      "cell_type": "code",
      "execution_count": 68,
      "metadata": {
        "colab": {
          "base_uri": "https://localhost:8080/",
          "height": 34
        },
        "id": "eqAN7YVIjKTr",
        "outputId": "b33a51eb-a05d-4769-d735-7cb13acc59b5"
      },
      "outputs": [
        {
          "name": "stdout",
          "output_type": "stream",
          "text": [
            "torch.Size([1, 256]) torch.Size([1, 256]) torch.Size([1, 256])\n",
            "tensor(2.1535, grad_fn=<NllLossBackward0>)\n"
          ]
        }
      ],
      "source": [
        "inputs = training_set[2]\n",
        "input_ids = inputs[\"input_ids\"].unsqueeze(0).type(torch.LongTensor)\n",
        "attention_mask = inputs[\"attention_mask\"].unsqueeze(0).type(torch.LongTensor)\n",
        "labels = inputs[\"labels\"].unsqueeze(0).type(torch.LongTensor)\n",
        "\n",
        "input_ids = input_ids.to(device)\n",
        "attention_mask = attention_mask.to(device)\n",
        "labels = labels.to(device)\n",
        "\n",
        "print(input_ids.size(), attention_mask.size(), labels.size())\n",
        "\n",
        "outputs = model(input_ids, attention_mask=attention_mask, labels=labels)\n",
        "initial_loss = outputs[0]\n",
        "print(initial_loss)"
      ]
    },
    {
      "cell_type": "markdown",
      "metadata": {
        "id": "yLdwsru9Mh7U"
      },
      "source": [
        "This looks good. Let's also verify that the logits of the neural network have a shape of (batch_size, sequence_length, num_labels):"
      ]
    },
    {
      "cell_type": "code",
      "execution_count": 69,
      "metadata": {
        "colab": {
          "base_uri": "https://localhost:8080/",
          "height": 34
        },
        "id": "X-z6YCpGnvfj",
        "outputId": "65461d20-fa62-4de1-a73b-0cfe254728ac"
      },
      "outputs": [
        {
          "data": {
            "text/plain": [
              "torch.Size([1, 256, 9])"
            ]
          },
          "execution_count": 69,
          "metadata": {},
          "output_type": "execute_result"
        }
      ],
      "source": [
        "tr_logits = outputs[1]\n",
        "print(tr_logits.shape)"
      ]
    },
    {
      "cell_type": "markdown",
      "metadata": {
        "id": "kwDLXxOVOCvD"
      },
      "source": [
        "Next, we define the optimizer. Here, we are just going to use Adam with a default learning rate. One can also decide to use more advanced ones such as AdamW (Adam with weight decay fix), which is [included](https://huggingface.co/transformers/main_classes/optimizer_schedules.html) in the Transformers repository, and a learning rate scheduler, but we are not going to do that here."
      ]
    },
    {
      "cell_type": "code",
      "execution_count": 70,
      "metadata": {
        "id": "kznSQfGIWdU4"
      },
      "outputs": [],
      "source": [
        "optimizer = torch.optim.Adam(params=model.parameters(), lr=LEARNING_RATE)"
      ]
    },
    {
      "cell_type": "markdown",
      "metadata": {
        "id": "vZQ8JMF0NOe1"
      },
      "source": [
        "Now let's define a regular PyTorch training function. It is partly based on [a really good repository about multilingual NER](https://github.com/chambliss/Multilingual_NER/blob/master/python/utils/main_utils.py#L344)."
      ]
    },
    {
      "cell_type": "code",
      "execution_count": 71,
      "metadata": {
        "id": "GLFivpkwW1HY"
      },
      "outputs": [],
      "source": [
        "# Defining the training function on the 80% of the dataset for tuning the bert model\n",
        "def train(epoch):\n",
        "    tr_loss, tr_accuracy = 0., 0.\n",
        "    nb_tr_examples, nb_tr_steps = 0, 0\n",
        "    tr_preds, tr_labels = [], []\n",
        "    # put model in training mode\n",
        "    model.train()\n",
        "    \n",
        "    for idx, batch in enumerate(training_loader):\n",
        "        \n",
        "        ids = batch['input_ids'].to(device, dtype = torch.long)\n",
        "        mask = batch['attention_mask'].to(device, dtype = torch.long)\n",
        "        labels = batch['labels'].to(device, dtype = torch.long)\n",
        "\n",
        "        loss, tr_logits = model(input_ids=ids, attention_mask=mask, labels=labels, return_dict=False)\n",
        "        tr_loss += loss\n",
        "\n",
        "        nb_tr_steps += 1\n",
        "        nb_tr_examples += labels.size(0)\n",
        "        \n",
        "        if idx % 100==0:\n",
        "            loss_step = tr_loss/nb_tr_steps\n",
        "            print(f\"Training loss per 100 training steps: {loss_step}\")\n",
        "           \n",
        "        # compute training accuracy\n",
        "        flattened_targets = labels.view(-1) # shape (batch_size * seq_len,)\n",
        "        active_logits = tr_logits.view(-1, model.num_labels) # shape (batch_size * seq_len, num_labels)\n",
        "        flattened_predictions = torch.argmax(active_logits, axis=1) # shape (batch_size * seq_len,)\n",
        "        \n",
        "        # only compute accuracy at active labels\n",
        "        active_accuracy = labels.view(-1) != -100 # shape (batch_size, seq_len)\n",
        "        #active_labels = torch.where(active_accuracy, labels.view(-1), torch.tensor(-100).type_as(labels))\n",
        "        \n",
        "        labels = torch.masked_select(flattened_targets, active_accuracy)\n",
        "        predictions = torch.masked_select(flattened_predictions, active_accuracy)\n",
        "        \n",
        "        tr_labels.extend(labels)\n",
        "        tr_preds.extend(predictions)\n",
        "\n",
        "        tmp_tr_accuracy = accuracy_score(labels.cpu().numpy(), predictions.cpu().numpy())\n",
        "        tr_accuracy += tmp_tr_accuracy\n",
        "    \n",
        "        # gradient clipping\n",
        "        torch.nn.utils.clip_grad_norm_(\n",
        "            parameters=model.parameters(), max_norm=MAX_GRAD_NORM\n",
        "        )\n",
        "        \n",
        "        # backward pass\n",
        "        optimizer.zero_grad()\n",
        "        loss.backward()\n",
        "        optimizer.step()\n",
        "\n",
        "    epoch_loss = tr_loss / nb_tr_steps\n",
        "    tr_accuracy = tr_accuracy / nb_tr_steps\n",
        "    print(f\"Training loss epoch: {epoch_loss}\")\n",
        "    print(f\"Training accuracy epoch: {tr_accuracy}\")"
      ]
    },
    {
      "cell_type": "markdown",
      "metadata": {
        "id": "k2dsCyP7dcF3"
      },
      "source": [
        "And let's train the model!"
      ]
    },
    {
      "cell_type": "code",
      "execution_count": 72,
      "metadata": {
        "colab": {
          "base_uri": "https://localhost:8080/",
          "height": 1000
        },
        "id": "y07Ybw8rZeZ7",
        "outputId": "56f2a1f3-cbad-4ea7-e8b7-01d4e45ac73f",
        "tags": []
      },
      "outputs": [
        {
          "name": "stdout",
          "output_type": "stream",
          "text": [
            "Training epoch: 1\n",
            "Training loss per 100 training steps: 2.18876051902771\n"
          ]
        },
        {
          "ename": "KeyboardInterrupt",
          "evalue": "",
          "output_type": "error",
          "traceback": [
            "\u001b[1;31m---------------------------------------------------------------------------\u001b[0m",
            "\u001b[1;31mKeyboardInterrupt\u001b[0m                         Traceback (most recent call last)",
            "Input \u001b[1;32mIn [72]\u001b[0m, in \u001b[0;36m<module>\u001b[1;34m\u001b[0m\n\u001b[0;32m      1\u001b[0m \u001b[38;5;28;01mfor\u001b[39;00m epoch \u001b[38;5;129;01min\u001b[39;00m \u001b[38;5;28mrange\u001b[39m(EPOCHS):\n\u001b[0;32m      2\u001b[0m     \u001b[38;5;28mprint\u001b[39m(\u001b[38;5;124mf\u001b[39m\u001b[38;5;124m\"\u001b[39m\u001b[38;5;124mTraining epoch: \u001b[39m\u001b[38;5;132;01m{\u001b[39;00mepoch \u001b[38;5;241m+\u001b[39m \u001b[38;5;241m1\u001b[39m\u001b[38;5;132;01m}\u001b[39;00m\u001b[38;5;124m\"\u001b[39m)\n\u001b[1;32m----> 3\u001b[0m     \u001b[43mtrain\u001b[49m\u001b[43m(\u001b[49m\u001b[43mepoch\u001b[49m\u001b[43m)\u001b[49m\n",
            "Input \u001b[1;32mIn [71]\u001b[0m, in \u001b[0;36mtrain\u001b[1;34m(epoch)\u001b[0m\n\u001b[0;32m     48\u001b[0m     \u001b[38;5;66;03m# backward pass\u001b[39;00m\n\u001b[0;32m     49\u001b[0m     optimizer\u001b[38;5;241m.\u001b[39mzero_grad()\n\u001b[1;32m---> 50\u001b[0m     \u001b[43mloss\u001b[49m\u001b[38;5;241;43m.\u001b[39;49m\u001b[43mbackward\u001b[49m\u001b[43m(\u001b[49m\u001b[43m)\u001b[49m\n\u001b[0;32m     51\u001b[0m     optimizer\u001b[38;5;241m.\u001b[39mstep()\n\u001b[0;32m     53\u001b[0m epoch_loss \u001b[38;5;241m=\u001b[39m tr_loss \u001b[38;5;241m/\u001b[39m nb_tr_steps\n",
            "File \u001b[1;32m~\\miniconda3\\envs\\fake_news\\lib\\site-packages\\torch\\_tensor.py:307\u001b[0m, in \u001b[0;36mTensor.backward\u001b[1;34m(self, gradient, retain_graph, create_graph, inputs)\u001b[0m\n\u001b[0;32m    298\u001b[0m \u001b[38;5;28;01mif\u001b[39;00m has_torch_function_unary(\u001b[38;5;28mself\u001b[39m):\n\u001b[0;32m    299\u001b[0m     \u001b[38;5;28;01mreturn\u001b[39;00m handle_torch_function(\n\u001b[0;32m    300\u001b[0m         Tensor\u001b[38;5;241m.\u001b[39mbackward,\n\u001b[0;32m    301\u001b[0m         (\u001b[38;5;28mself\u001b[39m,),\n\u001b[1;32m   (...)\u001b[0m\n\u001b[0;32m    305\u001b[0m         create_graph\u001b[38;5;241m=\u001b[39mcreate_graph,\n\u001b[0;32m    306\u001b[0m         inputs\u001b[38;5;241m=\u001b[39minputs)\n\u001b[1;32m--> 307\u001b[0m \u001b[43mtorch\u001b[49m\u001b[38;5;241;43m.\u001b[39;49m\u001b[43mautograd\u001b[49m\u001b[38;5;241;43m.\u001b[39;49m\u001b[43mbackward\u001b[49m\u001b[43m(\u001b[49m\u001b[38;5;28;43mself\u001b[39;49m\u001b[43m,\u001b[49m\u001b[43m \u001b[49m\u001b[43mgradient\u001b[49m\u001b[43m,\u001b[49m\u001b[43m \u001b[49m\u001b[43mretain_graph\u001b[49m\u001b[43m,\u001b[49m\u001b[43m \u001b[49m\u001b[43mcreate_graph\u001b[49m\u001b[43m,\u001b[49m\u001b[43m \u001b[49m\u001b[43minputs\u001b[49m\u001b[38;5;241;43m=\u001b[39;49m\u001b[43minputs\u001b[49m\u001b[43m)\u001b[49m\n",
            "File \u001b[1;32m~\\miniconda3\\envs\\fake_news\\lib\\site-packages\\torch\\autograd\\__init__.py:154\u001b[0m, in \u001b[0;36mbackward\u001b[1;34m(tensors, grad_tensors, retain_graph, create_graph, grad_variables, inputs)\u001b[0m\n\u001b[0;32m    151\u001b[0m \u001b[38;5;28;01mif\u001b[39;00m retain_graph \u001b[38;5;129;01mis\u001b[39;00m \u001b[38;5;28;01mNone\u001b[39;00m:\n\u001b[0;32m    152\u001b[0m     retain_graph \u001b[38;5;241m=\u001b[39m create_graph\n\u001b[1;32m--> 154\u001b[0m \u001b[43mVariable\u001b[49m\u001b[38;5;241;43m.\u001b[39;49m\u001b[43m_execution_engine\u001b[49m\u001b[38;5;241;43m.\u001b[39;49m\u001b[43mrun_backward\u001b[49m\u001b[43m(\u001b[49m\n\u001b[0;32m    155\u001b[0m \u001b[43m    \u001b[49m\u001b[43mtensors\u001b[49m\u001b[43m,\u001b[49m\u001b[43m \u001b[49m\u001b[43mgrad_tensors_\u001b[49m\u001b[43m,\u001b[49m\u001b[43m \u001b[49m\u001b[43mretain_graph\u001b[49m\u001b[43m,\u001b[49m\u001b[43m \u001b[49m\u001b[43mcreate_graph\u001b[49m\u001b[43m,\u001b[49m\u001b[43m \u001b[49m\u001b[43minputs\u001b[49m\u001b[43m,\u001b[49m\n\u001b[0;32m    156\u001b[0m \u001b[43m    \u001b[49m\u001b[43mallow_unreachable\u001b[49m\u001b[38;5;241;43m=\u001b[39;49m\u001b[38;5;28;43;01mTrue\u001b[39;49;00m\u001b[43m,\u001b[49m\u001b[43m \u001b[49m\u001b[43maccumulate_grad\u001b[49m\u001b[38;5;241;43m=\u001b[39;49m\u001b[38;5;28;43;01mTrue\u001b[39;49;00m\u001b[43m)\u001b[49m\n",
            "\u001b[1;31mKeyboardInterrupt\u001b[0m: "
          ]
        }
      ],
      "source": [
        "for epoch in range(EPOCHS):\n",
        "    print(f\"Training epoch: {epoch + 1}\")\n",
        "    train(epoch)"
      ]
    },
    {
      "cell_type": "markdown",
      "metadata": {
        "id": "r4jcSOJr680a"
      },
      "source": [
        "#### **Evaluating the model**"
      ]
    },
    {
      "cell_type": "markdown",
      "metadata": {
        "id": "rYUTuOEUdfFJ"
      },
      "source": [
        "Now that we've trained our model, we can evaluate its performance on the held-out test set (which is 20% of the data). Note that here, no gradient updates are performed, the model just outputs its logits. "
      ]
    },
    {
      "cell_type": "code",
      "execution_count": null,
      "metadata": {
        "id": "RIVVfFHi7Aw7"
      },
      "outputs": [],
      "source": [
        "def valid(model, testing_loader):\n",
        "    # put model in evaluation mode\n",
        "    model.eval()\n",
        "    \n",
        "    eval_loss, eval_accuracy = 0, 0\n",
        "    nb_eval_examples, nb_eval_steps = 0, 0\n",
        "    eval_preds, eval_labels = [], []\n",
        "    \n",
        "    with torch.no_grad():\n",
        "        for idx, batch in enumerate(testing_loader):\n",
        "            \n",
        "            ids = batch['input_ids'].to(device, dtype = torch.long)\n",
        "            mask = batch['attention_mask'].to(device, dtype = torch.long)\n",
        "            labels = batch['labels'].to(device, dtype = torch.long)\n",
        "            \n",
        "            loss, eval_logits = model(input_ids=ids, attention_mask=mask, labels=labels, return_dict=False)\n",
        "            \n",
        "            eval_loss += loss.item()\n",
        "\n",
        "            nb_eval_steps += 1\n",
        "            nb_eval_examples += labels.size(0)\n",
        "        \n",
        "            if idx % 100==0:\n",
        "                loss_step = eval_loss/nb_eval_steps\n",
        "                print(f\"Validation loss per 100 evaluation steps: {loss_step}\")\n",
        "              \n",
        "            # compute evaluation accuracy\n",
        "            flattened_targets = labels.view(-1) # shape (batch_size * seq_len,)\n",
        "            active_logits = eval_logits.view(-1, model.num_labels) # shape (batch_size * seq_len, num_labels)\n",
        "            flattened_predictions = torch.argmax(active_logits, axis=1) # shape (batch_size * seq_len,)\n",
        "            \n",
        "            # only compute accuracy at active labels\n",
        "            active_accuracy = labels.view(-1) != -100 # shape (batch_size, seq_len)\n",
        "        \n",
        "            labels = torch.masked_select(flattened_targets, active_accuracy)\n",
        "            predictions = torch.masked_select(flattened_predictions, active_accuracy)\n",
        "            \n",
        "            eval_labels.extend(labels)\n",
        "            eval_preds.extend(predictions)\n",
        "            \n",
        "            tmp_eval_accuracy = accuracy_score(labels.cpu().numpy(), predictions.cpu().numpy())\n",
        "            eval_accuracy += tmp_eval_accuracy\n",
        "\n",
        "    labels = [ids_to_labels[id.item()] for id in eval_labels]\n",
        "    predictions = [ids_to_labels[id.item()] for id in eval_preds]\n",
        "    \n",
        "    eval_loss = eval_loss / nb_eval_steps\n",
        "    eval_accuracy = eval_accuracy / nb_eval_steps\n",
        "    print(f\"Validation Loss: {eval_loss}\")\n",
        "    print(f\"Validation Accuracy: {eval_accuracy}\")\n",
        "\n",
        "    return labels, predictions"
      ]
    },
    {
      "cell_type": "markdown",
      "metadata": {
        "id": "zJaONluRdq-e"
      },
      "source": [
        "As we can see below, performance is quite good! Accuracy on the test test is > 93%."
      ]
    },
    {
      "cell_type": "code",
      "execution_count": null,
      "metadata": {
        "colab": {
          "base_uri": "https://localhost:8080/",
          "height": 857
        },
        "id": "2BrxRjvxApY8",
        "outputId": "5f1e9073-3f02-4408-9d37-c9ec0fdb0b06",
        "tags": []
      },
      "outputs": [
        {
          "name": "stdout",
          "output_type": "stream",
          "text": [
            "Validation loss per 100 evaluation steps: 0.029838914051651955\n",
            "Validation loss per 100 evaluation steps: 0.11164092980694063\n",
            "Validation loss per 100 evaluation steps: 0.11720859550810721\n",
            "Validation loss per 100 evaluation steps: 0.11533031536984038\n",
            "Validation loss per 100 evaluation steps: 0.11752752857393077\n",
            "Validation loss per 100 evaluation steps: 0.11795150662726814\n",
            "Validation loss per 100 evaluation steps: 0.11336430445500958\n",
            "Validation loss per 100 evaluation steps: 0.11063498551190064\n",
            "Validation loss per 100 evaluation steps: 0.11129577854923212\n",
            "Validation loss per 100 evaluation steps: 0.10912259741927643\n",
            "Validation loss per 100 evaluation steps: 0.11090814114395216\n",
            "Validation loss per 100 evaluation steps: 0.10960907831445056\n",
            "Validation loss per 100 evaluation steps: 0.11090172193861092\n",
            "Validation loss per 100 evaluation steps: 0.11065552908407136\n",
            "Validation loss per 100 evaluation steps: 0.10989554332526698\n",
            "Validation loss per 100 evaluation steps: 0.1097723025177729\n",
            "Validation loss per 100 evaluation steps: 0.11030929139902527\n",
            "Validation loss per 100 evaluation steps: 0.11067377600127909\n",
            "Validation loss per 100 evaluation steps: 0.10997262629122499\n",
            "Validation loss per 100 evaluation steps: 0.10958296220037653\n",
            "Validation loss per 100 evaluation steps: 0.10900292591250473\n",
            "Validation loss per 100 evaluation steps: 0.1092233783299496\n",
            "Validation loss per 100 evaluation steps: 0.10848837650443653\n",
            "Validation loss per 100 evaluation steps: 0.1083577413033809\n",
            "Validation loss per 100 evaluation steps: 0.10831810379928282\n",
            "Validation loss per 100 evaluation steps: 0.10788714811875683\n",
            "Validation loss per 100 evaluation steps: 0.10906027566936703\n",
            "Validation loss per 100 evaluation steps: 0.10917726822322601\n",
            "Validation loss per 100 evaluation steps: 0.10997722343550327\n",
            "Validation loss per 100 evaluation steps: 0.1097625017850785\n",
            "Validation loss per 100 evaluation steps: 0.10986702858901516\n",
            "Validation loss per 100 evaluation steps: 0.10995642007411537\n",
            "Validation loss per 100 evaluation steps: 0.11049274548616753\n",
            "Validation loss per 100 evaluation steps: 0.11022954661958033\n",
            "Validation loss per 100 evaluation steps: 0.11044789120947608\n",
            "Validation loss per 100 evaluation steps: 0.11129354939497295\n",
            "Validation loss per 100 evaluation steps: 0.11177858336534717\n",
            "Validation loss per 100 evaluation steps: 0.1116621642337266\n",
            "Validation loss per 100 evaluation steps: 0.11207508360233204\n",
            "Validation loss per 100 evaluation steps: 0.1120465677763044\n",
            "Validation loss per 100 evaluation steps: 0.11248574297811968\n",
            "Validation loss per 100 evaluation steps: 0.11296553928068376\n",
            "Validation loss per 100 evaluation steps: 0.11348541951381376\n",
            "Validation loss per 100 evaluation steps: 0.11323035578284035\n",
            "Validation loss per 100 evaluation steps: 0.11303811226665134\n",
            "Validation loss per 100 evaluation steps: 0.11303454189037503\n",
            "Validation loss per 100 evaluation steps: 0.11319714647489447\n",
            "Validation loss per 100 evaluation steps: 0.11294678474048733\n",
            "Validation Loss: 0.11292897437864133\n",
            "Validation Accuracy: 0.9655877804714731\n"
          ]
        }
      ],
      "source": [
        "labels, predictions = valid(model, testing_loader)"
      ]
    },
    {
      "cell_type": "markdown",
      "metadata": {
        "id": "SAznLDwx_U2X"
      },
      "source": [
        "However, the accuracy metric is misleading, as a lot of labels are \"outside\" (O), even after omitting predictions on the [PAD] tokens. What is important is looking at the precision, recall and f1-score of the individual tags. For this, we use the seqeval Python library: "
      ]
    },
    {
      "cell_type": "code",
      "execution_count": null,
      "metadata": {
        "colab": {
          "base_uri": "https://localhost:8080/",
          "height": 202
        },
        "id": "0jDNXrjr-6BW",
        "outputId": "ba093326-3aa2-4928-edc4-123d5ead0269",
        "tags": []
      },
      "outputs": [
        {
          "name": "stdout",
          "output_type": "stream",
          "text": [
            "           precision    recall  f1-score   support\n",
            "\n",
            "      org       0.63      0.59      0.61      3964\n",
            "      gpe       0.94      0.93      0.93      3021\n",
            "      geo       0.81      0.89      0.85      7378\n",
            "      tim       0.86      0.85      0.85      4070\n",
            "      per       0.73      0.78      0.75      3367\n",
            "\n",
            "micro avg       0.79      0.82      0.80     21800\n",
            "macro avg       0.79      0.82      0.80     21800\n",
            "\n"
          ]
        }
      ],
      "source": [
        "print(classification_report(labels, predictions))"
      ]
    },
    {
      "cell_type": "markdown",
      "metadata": {
        "id": "mC9QG1_8nRJ7"
      },
      "source": [
        "Performance already seems quite good, but note that we've only trained for 1 epoch. An optimal approach would be to perform evaluation on a validation set while training to improve generalization."
      ]
    },
    {
      "cell_type": "markdown",
      "metadata": {
        "id": "sqDklprSqB5d"
      },
      "source": [
        "#### **Saving the model for future use**"
      ]
    },
    {
      "cell_type": "markdown",
      "metadata": {
        "id": "VuUdX_fImswO"
      },
      "source": [
        "Finally, let's save the vocabulary (.txt) file, model weights (.bin) and the model's configuration (.json) to a directory, so that both the tokenizer and model can be re-loaded using the `from_pretrained()` class method.\n"
      ]
    },
    {
      "cell_type": "code",
      "execution_count": null,
      "metadata": {
        "id": "sDZtSsKKntuI",
        "tags": []
      },
      "outputs": [],
      "source": [
        "import os\n",
        "\n",
        "directory = \"./model\"\n",
        "\n",
        "if not os.path.exists(directory):\n",
        "    os.makedirs(directory)\n",
        "\n",
        "# save vocabulary of the tokenizer\n",
        "tokenizer.save_vocabulary(directory)\n",
        "# save the model weights and its configuration file\n",
        "model.save_pretrained(directory)\n",
        "print('All files saved')"
      ]
    }
  ],
  "metadata": {
    "accelerator": "GPU",
    "colab": {
      "collapsed_sections": [],
      "name": "Custom Named Entity Recognition with BERT.ipynb",
      "provenance": []
    },
    "kernelspec": {
      "display_name": "Python 3",
      "language": "python",
      "name": "python3"
    },
    "language_info": {
      "codemirror_mode": {
        "name": "ipython",
        "version": 3
      },
      "file_extension": ".py",
      "mimetype": "text/x-python",
      "name": "python",
      "nbconvert_exporter": "python",
      "pygments_lexer": "ipython3",
      "version": "3.9.1"
    },
    "widgets": {
      "application/vnd.jupyter.widget-state+json": {
        "0528099bb9f3451f9706daf630eb97e5": {
          "model_module": "@jupyter-widgets/controls",
          "model_module_version": "1.5.0",
          "model_name": "HBoxModel",
          "state": {
            "_dom_classes": [],
            "_model_module": "@jupyter-widgets/controls",
            "_model_module_version": "1.5.0",
            "_model_name": "HBoxModel",
            "_view_count": null,
            "_view_module": "@jupyter-widgets/controls",
            "_view_module_version": "1.5.0",
            "_view_name": "HBoxView",
            "box_style": "",
            "children": [
              "IPY_MODEL_7d05f8de38324f858c67d5c0875a7228",
              "IPY_MODEL_b73b1cf372ab4091bf3ddf885d0d102e"
            ],
            "layout": "IPY_MODEL_d1a13adac751439d829e1b19d4fad80e"
          }
        },
        "36dda379e65246fb99db9ec532fee7b7": {
          "model_module": "@jupyter-widgets/controls",
          "model_module_version": "1.5.0",
          "model_name": "HTMLModel",
          "state": {
            "_dom_classes": [],
            "_model_module": "@jupyter-widgets/controls",
            "_model_module_version": "1.5.0",
            "_model_name": "HTMLModel",
            "_view_count": null,
            "_view_module": "@jupyter-widgets/controls",
            "_view_module_version": "1.5.0",
            "_view_name": "HTMLView",
            "description": "",
            "description_tooltip": null,
            "layout": "IPY_MODEL_7f736be4090948089a7419884006a414",
            "placeholder": "​",
            "style": "IPY_MODEL_55fd0d8368e54d57a65d8ac964263b68",
            "value": " 433/433 [00:06&lt;00:00, 71.5B/s]"
          }
        },
        "39fe4f4cda184f8ea8be13061cb06343": {
          "model_module": "@jupyter-widgets/controls",
          "model_module_version": "1.5.0",
          "model_name": "ProgressStyleModel",
          "state": {
            "_model_module": "@jupyter-widgets/controls",
            "_model_module_version": "1.5.0",
            "_model_name": "ProgressStyleModel",
            "_view_count": null,
            "_view_module": "@jupyter-widgets/base",
            "_view_module_version": "1.2.0",
            "_view_name": "StyleView",
            "bar_color": null,
            "description_width": "initial"
          }
        },
        "55fd0d8368e54d57a65d8ac964263b68": {
          "model_module": "@jupyter-widgets/controls",
          "model_module_version": "1.5.0",
          "model_name": "DescriptionStyleModel",
          "state": {
            "_model_module": "@jupyter-widgets/controls",
            "_model_module_version": "1.5.0",
            "_model_name": "DescriptionStyleModel",
            "_view_count": null,
            "_view_module": "@jupyter-widgets/base",
            "_view_module_version": "1.2.0",
            "_view_name": "StyleView",
            "description_width": ""
          }
        },
        "5af2dda0fde845fca51f7f5e3d804834": {
          "model_module": "@jupyter-widgets/base",
          "model_module_version": "1.2.0",
          "model_name": "LayoutModel",
          "state": {
            "_model_module": "@jupyter-widgets/base",
            "_model_module_version": "1.2.0",
            "_model_name": "LayoutModel",
            "_view_count": null,
            "_view_module": "@jupyter-widgets/base",
            "_view_module_version": "1.2.0",
            "_view_name": "LayoutView",
            "align_content": null,
            "align_items": null,
            "align_self": null,
            "border": null,
            "bottom": null,
            "display": null,
            "flex": null,
            "flex_flow": null,
            "grid_area": null,
            "grid_auto_columns": null,
            "grid_auto_flow": null,
            "grid_auto_rows": null,
            "grid_column": null,
            "grid_gap": null,
            "grid_row": null,
            "grid_template_areas": null,
            "grid_template_columns": null,
            "grid_template_rows": null,
            "height": null,
            "justify_content": null,
            "justify_items": null,
            "left": null,
            "margin": null,
            "max_height": null,
            "max_width": null,
            "min_height": null,
            "min_width": null,
            "object_fit": null,
            "object_position": null,
            "order": null,
            "overflow": null,
            "overflow_x": null,
            "overflow_y": null,
            "padding": null,
            "right": null,
            "top": null,
            "visibility": null,
            "width": null
          }
        },
        "7d05f8de38324f858c67d5c0875a7228": {
          "model_module": "@jupyter-widgets/controls",
          "model_module_version": "1.5.0",
          "model_name": "FloatProgressModel",
          "state": {
            "_dom_classes": [],
            "_model_module": "@jupyter-widgets/controls",
            "_model_module_version": "1.5.0",
            "_model_name": "FloatProgressModel",
            "_view_count": null,
            "_view_module": "@jupyter-widgets/controls",
            "_view_module_version": "1.5.0",
            "_view_name": "ProgressView",
            "bar_style": "success",
            "description": "Downloading: 100%",
            "description_tooltip": null,
            "layout": "IPY_MODEL_e816383d82ab457b800eb97d63df80c8",
            "max": 440473133,
            "min": 0,
            "orientation": "horizontal",
            "style": "IPY_MODEL_b4ebed4a383d44be8fc29fa9063689a0",
            "value": 440473133
          }
        },
        "7e472a723360459294ecf8e046dbcdfb": {
          "model_module": "@jupyter-widgets/controls",
          "model_module_version": "1.5.0",
          "model_name": "HBoxModel",
          "state": {
            "_dom_classes": [],
            "_model_module": "@jupyter-widgets/controls",
            "_model_module_version": "1.5.0",
            "_model_name": "HBoxModel",
            "_view_count": null,
            "_view_module": "@jupyter-widgets/controls",
            "_view_module_version": "1.5.0",
            "_view_name": "HBoxView",
            "box_style": "",
            "children": [
              "IPY_MODEL_9be80d6ac6af4c18a6259a5ecf596645",
              "IPY_MODEL_36dda379e65246fb99db9ec532fee7b7"
            ],
            "layout": "IPY_MODEL_5af2dda0fde845fca51f7f5e3d804834"
          }
        },
        "7f736be4090948089a7419884006a414": {
          "model_module": "@jupyter-widgets/base",
          "model_module_version": "1.2.0",
          "model_name": "LayoutModel",
          "state": {
            "_model_module": "@jupyter-widgets/base",
            "_model_module_version": "1.2.0",
            "_model_name": "LayoutModel",
            "_view_count": null,
            "_view_module": "@jupyter-widgets/base",
            "_view_module_version": "1.2.0",
            "_view_name": "LayoutView",
            "align_content": null,
            "align_items": null,
            "align_self": null,
            "border": null,
            "bottom": null,
            "display": null,
            "flex": null,
            "flex_flow": null,
            "grid_area": null,
            "grid_auto_columns": null,
            "grid_auto_flow": null,
            "grid_auto_rows": null,
            "grid_column": null,
            "grid_gap": null,
            "grid_row": null,
            "grid_template_areas": null,
            "grid_template_columns": null,
            "grid_template_rows": null,
            "height": null,
            "justify_content": null,
            "justify_items": null,
            "left": null,
            "margin": null,
            "max_height": null,
            "max_width": null,
            "min_height": null,
            "min_width": null,
            "object_fit": null,
            "object_position": null,
            "order": null,
            "overflow": null,
            "overflow_x": null,
            "overflow_y": null,
            "padding": null,
            "right": null,
            "top": null,
            "visibility": null,
            "width": null
          }
        },
        "9be80d6ac6af4c18a6259a5ecf596645": {
          "model_module": "@jupyter-widgets/controls",
          "model_module_version": "1.5.0",
          "model_name": "FloatProgressModel",
          "state": {
            "_dom_classes": [],
            "_model_module": "@jupyter-widgets/controls",
            "_model_module_version": "1.5.0",
            "_model_name": "FloatProgressModel",
            "_view_count": null,
            "_view_module": "@jupyter-widgets/controls",
            "_view_module_version": "1.5.0",
            "_view_name": "ProgressView",
            "bar_style": "success",
            "description": "Downloading: 100%",
            "description_tooltip": null,
            "layout": "IPY_MODEL_a733276c36fa4969b5b0ed8e4c19cc36",
            "max": 433,
            "min": 0,
            "orientation": "horizontal",
            "style": "IPY_MODEL_39fe4f4cda184f8ea8be13061cb06343",
            "value": 433
          }
        },
        "a733276c36fa4969b5b0ed8e4c19cc36": {
          "model_module": "@jupyter-widgets/base",
          "model_module_version": "1.2.0",
          "model_name": "LayoutModel",
          "state": {
            "_model_module": "@jupyter-widgets/base",
            "_model_module_version": "1.2.0",
            "_model_name": "LayoutModel",
            "_view_count": null,
            "_view_module": "@jupyter-widgets/base",
            "_view_module_version": "1.2.0",
            "_view_name": "LayoutView",
            "align_content": null,
            "align_items": null,
            "align_self": null,
            "border": null,
            "bottom": null,
            "display": null,
            "flex": null,
            "flex_flow": null,
            "grid_area": null,
            "grid_auto_columns": null,
            "grid_auto_flow": null,
            "grid_auto_rows": null,
            "grid_column": null,
            "grid_gap": null,
            "grid_row": null,
            "grid_template_areas": null,
            "grid_template_columns": null,
            "grid_template_rows": null,
            "height": null,
            "justify_content": null,
            "justify_items": null,
            "left": null,
            "margin": null,
            "max_height": null,
            "max_width": null,
            "min_height": null,
            "min_width": null,
            "object_fit": null,
            "object_position": null,
            "order": null,
            "overflow": null,
            "overflow_x": null,
            "overflow_y": null,
            "padding": null,
            "right": null,
            "top": null,
            "visibility": null,
            "width": null
          }
        },
        "b4ebed4a383d44be8fc29fa9063689a0": {
          "model_module": "@jupyter-widgets/controls",
          "model_module_version": "1.5.0",
          "model_name": "ProgressStyleModel",
          "state": {
            "_model_module": "@jupyter-widgets/controls",
            "_model_module_version": "1.5.0",
            "_model_name": "ProgressStyleModel",
            "_view_count": null,
            "_view_module": "@jupyter-widgets/base",
            "_view_module_version": "1.2.0",
            "_view_name": "StyleView",
            "bar_color": null,
            "description_width": "initial"
          }
        },
        "b73b1cf372ab4091bf3ddf885d0d102e": {
          "model_module": "@jupyter-widgets/controls",
          "model_module_version": "1.5.0",
          "model_name": "HTMLModel",
          "state": {
            "_dom_classes": [],
            "_model_module": "@jupyter-widgets/controls",
            "_model_module_version": "1.5.0",
            "_model_name": "HTMLModel",
            "_view_count": null,
            "_view_module": "@jupyter-widgets/controls",
            "_view_module_version": "1.5.0",
            "_view_name": "HTMLView",
            "description": "",
            "description_tooltip": null,
            "layout": "IPY_MODEL_c66cbf2ea9b943c9b7d20dea218b369a",
            "placeholder": "​",
            "style": "IPY_MODEL_d08086bdee6c4bac9bf7ae49784146e1",
            "value": " 440M/440M [00:05&lt;00:00, 74.4MB/s]"
          }
        },
        "c66cbf2ea9b943c9b7d20dea218b369a": {
          "model_module": "@jupyter-widgets/base",
          "model_module_version": "1.2.0",
          "model_name": "LayoutModel",
          "state": {
            "_model_module": "@jupyter-widgets/base",
            "_model_module_version": "1.2.0",
            "_model_name": "LayoutModel",
            "_view_count": null,
            "_view_module": "@jupyter-widgets/base",
            "_view_module_version": "1.2.0",
            "_view_name": "LayoutView",
            "align_content": null,
            "align_items": null,
            "align_self": null,
            "border": null,
            "bottom": null,
            "display": null,
            "flex": null,
            "flex_flow": null,
            "grid_area": null,
            "grid_auto_columns": null,
            "grid_auto_flow": null,
            "grid_auto_rows": null,
            "grid_column": null,
            "grid_gap": null,
            "grid_row": null,
            "grid_template_areas": null,
            "grid_template_columns": null,
            "grid_template_rows": null,
            "height": null,
            "justify_content": null,
            "justify_items": null,
            "left": null,
            "margin": null,
            "max_height": null,
            "max_width": null,
            "min_height": null,
            "min_width": null,
            "object_fit": null,
            "object_position": null,
            "order": null,
            "overflow": null,
            "overflow_x": null,
            "overflow_y": null,
            "padding": null,
            "right": null,
            "top": null,
            "visibility": null,
            "width": null
          }
        },
        "d08086bdee6c4bac9bf7ae49784146e1": {
          "model_module": "@jupyter-widgets/controls",
          "model_module_version": "1.5.0",
          "model_name": "DescriptionStyleModel",
          "state": {
            "_model_module": "@jupyter-widgets/controls",
            "_model_module_version": "1.5.0",
            "_model_name": "DescriptionStyleModel",
            "_view_count": null,
            "_view_module": "@jupyter-widgets/base",
            "_view_module_version": "1.2.0",
            "_view_name": "StyleView",
            "description_width": ""
          }
        },
        "d1a13adac751439d829e1b19d4fad80e": {
          "model_module": "@jupyter-widgets/base",
          "model_module_version": "1.2.0",
          "model_name": "LayoutModel",
          "state": {
            "_model_module": "@jupyter-widgets/base",
            "_model_module_version": "1.2.0",
            "_model_name": "LayoutModel",
            "_view_count": null,
            "_view_module": "@jupyter-widgets/base",
            "_view_module_version": "1.2.0",
            "_view_name": "LayoutView",
            "align_content": null,
            "align_items": null,
            "align_self": null,
            "border": null,
            "bottom": null,
            "display": null,
            "flex": null,
            "flex_flow": null,
            "grid_area": null,
            "grid_auto_columns": null,
            "grid_auto_flow": null,
            "grid_auto_rows": null,
            "grid_column": null,
            "grid_gap": null,
            "grid_row": null,
            "grid_template_areas": null,
            "grid_template_columns": null,
            "grid_template_rows": null,
            "height": null,
            "justify_content": null,
            "justify_items": null,
            "left": null,
            "margin": null,
            "max_height": null,
            "max_width": null,
            "min_height": null,
            "min_width": null,
            "object_fit": null,
            "object_position": null,
            "order": null,
            "overflow": null,
            "overflow_x": null,
            "overflow_y": null,
            "padding": null,
            "right": null,
            "top": null,
            "visibility": null,
            "width": null
          }
        },
        "e816383d82ab457b800eb97d63df80c8": {
          "model_module": "@jupyter-widgets/base",
          "model_module_version": "1.2.0",
          "model_name": "LayoutModel",
          "state": {
            "_model_module": "@jupyter-widgets/base",
            "_model_module_version": "1.2.0",
            "_model_name": "LayoutModel",
            "_view_count": null,
            "_view_module": "@jupyter-widgets/base",
            "_view_module_version": "1.2.0",
            "_view_name": "LayoutView",
            "align_content": null,
            "align_items": null,
            "align_self": null,
            "border": null,
            "bottom": null,
            "display": null,
            "flex": null,
            "flex_flow": null,
            "grid_area": null,
            "grid_auto_columns": null,
            "grid_auto_flow": null,
            "grid_auto_rows": null,
            "grid_column": null,
            "grid_gap": null,
            "grid_row": null,
            "grid_template_areas": null,
            "grid_template_columns": null,
            "grid_template_rows": null,
            "height": null,
            "justify_content": null,
            "justify_items": null,
            "left": null,
            "margin": null,
            "max_height": null,
            "max_width": null,
            "min_height": null,
            "min_width": null,
            "object_fit": null,
            "object_position": null,
            "order": null,
            "overflow": null,
            "overflow_x": null,
            "overflow_y": null,
            "padding": null,
            "right": null,
            "top": null,
            "visibility": null,
            "width": null
          }
        }
      }
    }
  },
  "nbformat": 4,
  "nbformat_minor": 0
}
