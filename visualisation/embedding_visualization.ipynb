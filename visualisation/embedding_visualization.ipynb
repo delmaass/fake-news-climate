{
 "cells": [
  {
   "cell_type": "code",
<<<<<<< HEAD
<<<<<<< HEAD
   "execution_count": 14,
   "id": "3f38ac27",
=======
   "execution_count": 1,
   "id": "02ad7400",
>>>>>>> fbdc462e4eee0840809dbda8be9f57975a46267b
=======
   "execution_count": 1,
   "id": "02ad7400",
>>>>>>> fbdc462e4eee0840809dbda8be9f57975a46267b
   "metadata": {},
   "outputs": [],
   "source": [
    "import pandas as pd\n",
    "import numpy as np\n",
<<<<<<< HEAD
<<<<<<< HEAD
    "import seaborn as sns\n",
    "import matplotlib.pyplot as plt\n",
    "\n",
    "from sklearn.manifold import TSNE\n",
    "from sklearn.decomposition import PCA\n",
    "\n",
    "from transformers import BertForSequenceClassification,BertTokenizerFast,AdamW,logging\n",
    "logging.set_verbosity_error()\n",
    "import torch\n",
    "\n",
    "from livelossplot import PlotLosses\n",
    "\n",
    "pd.options.display.max_colwidth = 1000\n",
    "pd.set_option('display.expand_frame_repr', False)\n",
    "\n",
    "import re,emoji\n",
    "import imageio,glob\n",
    "\n",
    "from transformers import CamembertForSequenceClassification, CamembertTokenizer, \\\n",
    "                         AdamW, get_linear_schedule_with_warmup"
=======
=======
>>>>>>> fbdc462e4eee0840809dbda8be9f57975a46267b
    "\n",
    "from transformers import logging\n",
    "logging.set_verbosity_error()\n",
    "import torch\n",
    "pd.options.display.max_colwidth = 1000\n",
    "pd.set_option('display.expand_frame_repr', False)\n",
    "\n",
    "from transformers import CamembertForSequenceClassification, CamembertTokenizer"
<<<<<<< HEAD
>>>>>>> fbdc462e4eee0840809dbda8be9f57975a46267b
=======
>>>>>>> fbdc462e4eee0840809dbda8be9f57975a46267b
   ]
  },
  {
   "cell_type": "code",
<<<<<<< HEAD
<<<<<<< HEAD
   "execution_count": 15,
   "id": "a5661cf7",
=======
   "execution_count": 2,
   "id": "3ecc0f0d",
>>>>>>> fbdc462e4eee0840809dbda8be9f57975a46267b
=======
   "execution_count": 2,
   "id": "3ecc0f0d",
>>>>>>> fbdc462e4eee0840809dbda8be9f57975a46267b
   "metadata": {},
   "outputs": [
    {
     "data": {
      "text/plain": [
       "<All keys matched successfully>"
      ]
     },
<<<<<<< HEAD
<<<<<<< HEAD
     "execution_count": 15,
=======
     "execution_count": 2,
>>>>>>> fbdc462e4eee0840809dbda8be9f57975a46267b
=======
     "execution_count": 2,
>>>>>>> fbdc462e4eee0840809dbda8be9f57975a46267b
     "metadata": {},
     "output_type": "execute_result"
    }
   ],
   "source": [
    "model = CamembertForSequenceClassification.from_pretrained(\n",
    "        'camembert-base',\n",
<<<<<<< HEAD
<<<<<<< HEAD
    "        num_labels = 3)\n",
=======
    "        num_labels = 2)\n",
>>>>>>> fbdc462e4eee0840809dbda8be9f57975a46267b
=======
    "        num_labels = 2)\n",
>>>>>>> fbdc462e4eee0840809dbda8be9f57975a46267b
    "PATH = 'first_camembert_model.model'\n",
    "model.load_state_dict(torch.load(PATH))"
   ]
  },
  {
   "cell_type": "code",
<<<<<<< HEAD
<<<<<<< HEAD
   "execution_count": 18,
   "id": "9a8ad194",
=======
   "execution_count": 3,
   "id": "95a66604",
>>>>>>> fbdc462e4eee0840809dbda8be9f57975a46267b
=======
   "execution_count": 3,
   "id": "95a66604",
>>>>>>> fbdc462e4eee0840809dbda8be9f57975a46267b
   "metadata": {},
   "outputs": [
    {
     "data": {
      "text/plain": [
       "CamembertForSequenceClassification(\n",
       "  (roberta): RobertaModel(\n",
       "    (embeddings): RobertaEmbeddings(\n",
       "      (word_embeddings): Embedding(32005, 768, padding_idx=1)\n",
       "      (position_embeddings): Embedding(514, 768, padding_idx=1)\n",
       "      (token_type_embeddings): Embedding(1, 768)\n",
       "      (LayerNorm): LayerNorm((768,), eps=1e-05, elementwise_affine=True)\n",
       "      (dropout): Dropout(p=0.1, inplace=False)\n",
       "    )\n",
       "    (encoder): RobertaEncoder(\n",
       "      (layer): ModuleList(\n",
       "        (0): RobertaLayer(\n",
       "          (attention): RobertaAttention(\n",
       "            (self): RobertaSelfAttention(\n",
       "              (query): Linear(in_features=768, out_features=768, bias=True)\n",
       "              (key): Linear(in_features=768, out_features=768, bias=True)\n",
       "              (value): Linear(in_features=768, out_features=768, bias=True)\n",
       "              (dropout): Dropout(p=0.1, inplace=False)\n",
       "            )\n",
       "            (output): RobertaSelfOutput(\n",
       "              (dense): Linear(in_features=768, out_features=768, bias=True)\n",
       "              (LayerNorm): LayerNorm((768,), eps=1e-05, elementwise_affine=True)\n",
       "              (dropout): Dropout(p=0.1, inplace=False)\n",
       "            )\n",
       "          )\n",
       "          (intermediate): RobertaIntermediate(\n",
       "            (dense): Linear(in_features=768, out_features=3072, bias=True)\n",
       "          )\n",
       "          (output): RobertaOutput(\n",
       "            (dense): Linear(in_features=3072, out_features=768, bias=True)\n",
       "            (LayerNorm): LayerNorm((768,), eps=1e-05, elementwise_affine=True)\n",
       "            (dropout): Dropout(p=0.1, inplace=False)\n",
       "          )\n",
       "        )\n",
       "        (1): RobertaLayer(\n",
       "          (attention): RobertaAttention(\n",
       "            (self): RobertaSelfAttention(\n",
       "              (query): Linear(in_features=768, out_features=768, bias=True)\n",
       "              (key): Linear(in_features=768, out_features=768, bias=True)\n",
       "              (value): Linear(in_features=768, out_features=768, bias=True)\n",
       "              (dropout): Dropout(p=0.1, inplace=False)\n",
       "            )\n",
       "            (output): RobertaSelfOutput(\n",
       "              (dense): Linear(in_features=768, out_features=768, bias=True)\n",
       "              (LayerNorm): LayerNorm((768,), eps=1e-05, elementwise_affine=True)\n",
       "              (dropout): Dropout(p=0.1, inplace=False)\n",
       "            )\n",
       "          )\n",
       "          (intermediate): RobertaIntermediate(\n",
       "            (dense): Linear(in_features=768, out_features=3072, bias=True)\n",
       "          )\n",
       "          (output): RobertaOutput(\n",
       "            (dense): Linear(in_features=3072, out_features=768, bias=True)\n",
       "            (LayerNorm): LayerNorm((768,), eps=1e-05, elementwise_affine=True)\n",
       "            (dropout): Dropout(p=0.1, inplace=False)\n",
       "          )\n",
       "        )\n",
       "        (2): RobertaLayer(\n",
       "          (attention): RobertaAttention(\n",
       "            (self): RobertaSelfAttention(\n",
       "              (query): Linear(in_features=768, out_features=768, bias=True)\n",
       "              (key): Linear(in_features=768, out_features=768, bias=True)\n",
       "              (value): Linear(in_features=768, out_features=768, bias=True)\n",
       "              (dropout): Dropout(p=0.1, inplace=False)\n",
       "            )\n",
       "            (output): RobertaSelfOutput(\n",
       "              (dense): Linear(in_features=768, out_features=768, bias=True)\n",
       "              (LayerNorm): LayerNorm((768,), eps=1e-05, elementwise_affine=True)\n",
       "              (dropout): Dropout(p=0.1, inplace=False)\n",
       "            )\n",
       "          )\n",
       "          (intermediate): RobertaIntermediate(\n",
       "            (dense): Linear(in_features=768, out_features=3072, bias=True)\n",
       "          )\n",
       "          (output): RobertaOutput(\n",
       "            (dense): Linear(in_features=3072, out_features=768, bias=True)\n",
       "            (LayerNorm): LayerNorm((768,), eps=1e-05, elementwise_affine=True)\n",
       "            (dropout): Dropout(p=0.1, inplace=False)\n",
       "          )\n",
       "        )\n",
       "        (3): RobertaLayer(\n",
       "          (attention): RobertaAttention(\n",
       "            (self): RobertaSelfAttention(\n",
       "              (query): Linear(in_features=768, out_features=768, bias=True)\n",
       "              (key): Linear(in_features=768, out_features=768, bias=True)\n",
       "              (value): Linear(in_features=768, out_features=768, bias=True)\n",
       "              (dropout): Dropout(p=0.1, inplace=False)\n",
       "            )\n",
       "            (output): RobertaSelfOutput(\n",
       "              (dense): Linear(in_features=768, out_features=768, bias=True)\n",
       "              (LayerNorm): LayerNorm((768,), eps=1e-05, elementwise_affine=True)\n",
       "              (dropout): Dropout(p=0.1, inplace=False)\n",
       "            )\n",
       "          )\n",
       "          (intermediate): RobertaIntermediate(\n",
       "            (dense): Linear(in_features=768, out_features=3072, bias=True)\n",
       "          )\n",
       "          (output): RobertaOutput(\n",
       "            (dense): Linear(in_features=3072, out_features=768, bias=True)\n",
       "            (LayerNorm): LayerNorm((768,), eps=1e-05, elementwise_affine=True)\n",
       "            (dropout): Dropout(p=0.1, inplace=False)\n",
       "          )\n",
       "        )\n",
       "        (4): RobertaLayer(\n",
       "          (attention): RobertaAttention(\n",
       "            (self): RobertaSelfAttention(\n",
       "              (query): Linear(in_features=768, out_features=768, bias=True)\n",
       "              (key): Linear(in_features=768, out_features=768, bias=True)\n",
       "              (value): Linear(in_features=768, out_features=768, bias=True)\n",
       "              (dropout): Dropout(p=0.1, inplace=False)\n",
       "            )\n",
       "            (output): RobertaSelfOutput(\n",
       "              (dense): Linear(in_features=768, out_features=768, bias=True)\n",
       "              (LayerNorm): LayerNorm((768,), eps=1e-05, elementwise_affine=True)\n",
       "              (dropout): Dropout(p=0.1, inplace=False)\n",
       "            )\n",
       "          )\n",
       "          (intermediate): RobertaIntermediate(\n",
       "            (dense): Linear(in_features=768, out_features=3072, bias=True)\n",
       "          )\n",
       "          (output): RobertaOutput(\n",
       "            (dense): Linear(in_features=3072, out_features=768, bias=True)\n",
       "            (LayerNorm): LayerNorm((768,), eps=1e-05, elementwise_affine=True)\n",
       "            (dropout): Dropout(p=0.1, inplace=False)\n",
       "          )\n",
       "        )\n",
       "        (5): RobertaLayer(\n",
       "          (attention): RobertaAttention(\n",
       "            (self): RobertaSelfAttention(\n",
       "              (query): Linear(in_features=768, out_features=768, bias=True)\n",
       "              (key): Linear(in_features=768, out_features=768, bias=True)\n",
       "              (value): Linear(in_features=768, out_features=768, bias=True)\n",
       "              (dropout): Dropout(p=0.1, inplace=False)\n",
       "            )\n",
       "            (output): RobertaSelfOutput(\n",
       "              (dense): Linear(in_features=768, out_features=768, bias=True)\n",
       "              (LayerNorm): LayerNorm((768,), eps=1e-05, elementwise_affine=True)\n",
       "              (dropout): Dropout(p=0.1, inplace=False)\n",
       "            )\n",
       "          )\n",
       "          (intermediate): RobertaIntermediate(\n",
       "            (dense): Linear(in_features=768, out_features=3072, bias=True)\n",
       "          )\n",
       "          (output): RobertaOutput(\n",
       "            (dense): Linear(in_features=3072, out_features=768, bias=True)\n",
       "            (LayerNorm): LayerNorm((768,), eps=1e-05, elementwise_affine=True)\n",
       "            (dropout): Dropout(p=0.1, inplace=False)\n",
       "          )\n",
       "        )\n",
       "        (6): RobertaLayer(\n",
       "          (attention): RobertaAttention(\n",
       "            (self): RobertaSelfAttention(\n",
       "              (query): Linear(in_features=768, out_features=768, bias=True)\n",
       "              (key): Linear(in_features=768, out_features=768, bias=True)\n",
       "              (value): Linear(in_features=768, out_features=768, bias=True)\n",
       "              (dropout): Dropout(p=0.1, inplace=False)\n",
       "            )\n",
       "            (output): RobertaSelfOutput(\n",
       "              (dense): Linear(in_features=768, out_features=768, bias=True)\n",
       "              (LayerNorm): LayerNorm((768,), eps=1e-05, elementwise_affine=True)\n",
       "              (dropout): Dropout(p=0.1, inplace=False)\n",
       "            )\n",
       "          )\n",
       "          (intermediate): RobertaIntermediate(\n",
       "            (dense): Linear(in_features=768, out_features=3072, bias=True)\n",
       "          )\n",
       "          (output): RobertaOutput(\n",
       "            (dense): Linear(in_features=3072, out_features=768, bias=True)\n",
       "            (LayerNorm): LayerNorm((768,), eps=1e-05, elementwise_affine=True)\n",
       "            (dropout): Dropout(p=0.1, inplace=False)\n",
       "          )\n",
       "        )\n",
       "        (7): RobertaLayer(\n",
       "          (attention): RobertaAttention(\n",
       "            (self): RobertaSelfAttention(\n",
       "              (query): Linear(in_features=768, out_features=768, bias=True)\n",
       "              (key): Linear(in_features=768, out_features=768, bias=True)\n",
       "              (value): Linear(in_features=768, out_features=768, bias=True)\n",
       "              (dropout): Dropout(p=0.1, inplace=False)\n",
       "            )\n",
       "            (output): RobertaSelfOutput(\n",
       "              (dense): Linear(in_features=768, out_features=768, bias=True)\n",
       "              (LayerNorm): LayerNorm((768,), eps=1e-05, elementwise_affine=True)\n",
       "              (dropout): Dropout(p=0.1, inplace=False)\n",
       "            )\n",
       "          )\n",
       "          (intermediate): RobertaIntermediate(\n",
       "            (dense): Linear(in_features=768, out_features=3072, bias=True)\n",
       "          )\n",
       "          (output): RobertaOutput(\n",
       "            (dense): Linear(in_features=3072, out_features=768, bias=True)\n",
       "            (LayerNorm): LayerNorm((768,), eps=1e-05, elementwise_affine=True)\n",
       "            (dropout): Dropout(p=0.1, inplace=False)\n",
       "          )\n",
       "        )\n",
       "        (8): RobertaLayer(\n",
       "          (attention): RobertaAttention(\n",
       "            (self): RobertaSelfAttention(\n",
       "              (query): Linear(in_features=768, out_features=768, bias=True)\n",
       "              (key): Linear(in_features=768, out_features=768, bias=True)\n",
       "              (value): Linear(in_features=768, out_features=768, bias=True)\n",
       "              (dropout): Dropout(p=0.1, inplace=False)\n",
       "            )\n",
       "            (output): RobertaSelfOutput(\n",
       "              (dense): Linear(in_features=768, out_features=768, bias=True)\n",
       "              (LayerNorm): LayerNorm((768,), eps=1e-05, elementwise_affine=True)\n",
       "              (dropout): Dropout(p=0.1, inplace=False)\n",
       "            )\n",
       "          )\n",
       "          (intermediate): RobertaIntermediate(\n",
       "            (dense): Linear(in_features=768, out_features=3072, bias=True)\n",
       "          )\n",
       "          (output): RobertaOutput(\n",
       "            (dense): Linear(in_features=3072, out_features=768, bias=True)\n",
       "            (LayerNorm): LayerNorm((768,), eps=1e-05, elementwise_affine=True)\n",
       "            (dropout): Dropout(p=0.1, inplace=False)\n",
       "          )\n",
       "        )\n",
       "        (9): RobertaLayer(\n",
       "          (attention): RobertaAttention(\n",
       "            (self): RobertaSelfAttention(\n",
       "              (query): Linear(in_features=768, out_features=768, bias=True)\n",
       "              (key): Linear(in_features=768, out_features=768, bias=True)\n",
       "              (value): Linear(in_features=768, out_features=768, bias=True)\n",
       "              (dropout): Dropout(p=0.1, inplace=False)\n",
       "            )\n",
       "            (output): RobertaSelfOutput(\n",
       "              (dense): Linear(in_features=768, out_features=768, bias=True)\n",
       "              (LayerNorm): LayerNorm((768,), eps=1e-05, elementwise_affine=True)\n",
       "              (dropout): Dropout(p=0.1, inplace=False)\n",
       "            )\n",
       "          )\n",
       "          (intermediate): RobertaIntermediate(\n",
       "            (dense): Linear(in_features=768, out_features=3072, bias=True)\n",
       "          )\n",
       "          (output): RobertaOutput(\n",
       "            (dense): Linear(in_features=3072, out_features=768, bias=True)\n",
       "            (LayerNorm): LayerNorm((768,), eps=1e-05, elementwise_affine=True)\n",
       "            (dropout): Dropout(p=0.1, inplace=False)\n",
       "          )\n",
       "        )\n",
       "        (10): RobertaLayer(\n",
       "          (attention): RobertaAttention(\n",
       "            (self): RobertaSelfAttention(\n",
       "              (query): Linear(in_features=768, out_features=768, bias=True)\n",
       "              (key): Linear(in_features=768, out_features=768, bias=True)\n",
       "              (value): Linear(in_features=768, out_features=768, bias=True)\n",
       "              (dropout): Dropout(p=0.1, inplace=False)\n",
       "            )\n",
       "            (output): RobertaSelfOutput(\n",
       "              (dense): Linear(in_features=768, out_features=768, bias=True)\n",
       "              (LayerNorm): LayerNorm((768,), eps=1e-05, elementwise_affine=True)\n",
       "              (dropout): Dropout(p=0.1, inplace=False)\n",
       "            )\n",
       "          )\n",
       "          (intermediate): RobertaIntermediate(\n",
       "            (dense): Linear(in_features=768, out_features=3072, bias=True)\n",
       "          )\n",
       "          (output): RobertaOutput(\n",
       "            (dense): Linear(in_features=3072, out_features=768, bias=True)\n",
       "            (LayerNorm): LayerNorm((768,), eps=1e-05, elementwise_affine=True)\n",
       "            (dropout): Dropout(p=0.1, inplace=False)\n",
       "          )\n",
       "        )\n",
       "        (11): RobertaLayer(\n",
       "          (attention): RobertaAttention(\n",
       "            (self): RobertaSelfAttention(\n",
       "              (query): Linear(in_features=768, out_features=768, bias=True)\n",
       "              (key): Linear(in_features=768, out_features=768, bias=True)\n",
       "              (value): Linear(in_features=768, out_features=768, bias=True)\n",
       "              (dropout): Dropout(p=0.1, inplace=False)\n",
       "            )\n",
       "            (output): RobertaSelfOutput(\n",
       "              (dense): Linear(in_features=768, out_features=768, bias=True)\n",
       "              (LayerNorm): LayerNorm((768,), eps=1e-05, elementwise_affine=True)\n",
       "              (dropout): Dropout(p=0.1, inplace=False)\n",
       "            )\n",
       "          )\n",
       "          (intermediate): RobertaIntermediate(\n",
       "            (dense): Linear(in_features=768, out_features=3072, bias=True)\n",
       "          )\n",
       "          (output): RobertaOutput(\n",
       "            (dense): Linear(in_features=3072, out_features=768, bias=True)\n",
       "            (LayerNorm): LayerNorm((768,), eps=1e-05, elementwise_affine=True)\n",
       "            (dropout): Dropout(p=0.1, inplace=False)\n",
       "          )\n",
       "        )\n",
       "      )\n",
       "    )\n",
       "  )\n",
       "  (classifier): RobertaClassificationHead(\n",
       "    (dense): Linear(in_features=768, out_features=768, bias=True)\n",
       "    (dropout): Dropout(p=0.1, inplace=False)\n",
<<<<<<< HEAD
<<<<<<< HEAD
       "    (out_proj): Linear(in_features=768, out_features=3, bias=True)\n",
=======
       "    (out_proj): Linear(in_features=768, out_features=2, bias=True)\n",
>>>>>>> fbdc462e4eee0840809dbda8be9f57975a46267b
=======
       "    (out_proj): Linear(in_features=768, out_features=2, bias=True)\n",
>>>>>>> fbdc462e4eee0840809dbda8be9f57975a46267b
       "  )\n",
       ")"
      ]
     },
<<<<<<< HEAD
<<<<<<< HEAD
     "execution_count": 18,
=======
     "execution_count": 3,
>>>>>>> fbdc462e4eee0840809dbda8be9f57975a46267b
=======
     "execution_count": 3,
>>>>>>> fbdc462e4eee0840809dbda8be9f57975a46267b
     "metadata": {},
     "output_type": "execute_result"
    }
   ],
   "source": [
    "model.eval()"
   ]
  },
  {
   "cell_type": "code",
<<<<<<< HEAD
<<<<<<< HEAD
   "execution_count": 19,
   "id": "69981d93",
=======
   "execution_count": 4,
   "id": "e47b622f",
>>>>>>> fbdc462e4eee0840809dbda8be9f57975a46267b
=======
   "execution_count": 4,
   "id": "e47b622f",
>>>>>>> fbdc462e4eee0840809dbda8be9f57975a46267b
   "metadata": {},
   "outputs": [],
   "source": [
    "from torch.utils.tensorboard import SummaryWriter\n",
    "writer = SummaryWriter('runs/testing_tensorboard_pt')"
   ]
  },
  {
   "cell_type": "code",
<<<<<<< HEAD
<<<<<<< HEAD
   "execution_count": 20,
   "id": "7d65a0d5",
=======
   "execution_count": 5,
   "id": "4443274d",
>>>>>>> fbdc462e4eee0840809dbda8be9f57975a46267b
=======
   "execution_count": 5,
   "id": "4443274d",
>>>>>>> fbdc462e4eee0840809dbda8be9f57975a46267b
   "metadata": {},
   "outputs": [],
   "source": [
    "import tensorflow as tf\n",
    "import tensorboard as tb\n",
    "tf.io.gfile = tb.compat.tensorflow_stub.io.gfile"
   ]
  },
  {
   "cell_type": "code",
<<<<<<< HEAD
<<<<<<< HEAD
   "execution_count": 21,
   "id": "32a2ef89",
=======
   "execution_count": 6,
   "id": "ebf5a84a",
>>>>>>> fbdc462e4eee0840809dbda8be9f57975a46267b
=======
   "execution_count": 6,
   "id": "ebf5a84a",
>>>>>>> fbdc462e4eee0840809dbda8be9f57975a46267b
   "metadata": {},
   "outputs": [],
   "source": [
    "TOKENIZER = CamembertTokenizer.from_pretrained(\n",
    "    'camembert-base',\n",
    "    do_lower_case=True)\n",
    "\n",
    "words = list(TOKENIZER.get_vocab().keys())\n",
<<<<<<< HEAD
<<<<<<< HEAD
    "words += [\"vicissitude\"]"
=======
    "words += [\"caca\"]"
>>>>>>> fbdc462e4eee0840809dbda8be9f57975a46267b
=======
    "words += [\"caca\"]"
>>>>>>> fbdc462e4eee0840809dbda8be9f57975a46267b
   ]
  },
  {
   "cell_type": "code",
<<<<<<< HEAD
<<<<<<< HEAD
   "execution_count": 22,
   "id": "7b50d288",
   "metadata": {},
   "outputs": [
    {
     "name": "stdout",
     "output_type": "stream",
     "text": [
      "warning: Embedding dir exists, did you set global_step for add_embedding()?\n"
     ]
    }
   ],
=======
=======
>>>>>>> fbdc462e4eee0840809dbda8be9f57975a46267b
   "execution_count": 7,
   "id": "f52ea17e",
   "metadata": {},
   "outputs": [],
<<<<<<< HEAD
>>>>>>> fbdc462e4eee0840809dbda8be9f57975a46267b
=======
>>>>>>> fbdc462e4eee0840809dbda8be9f57975a46267b
   "source": [
    "word_embedding = model.roberta.embeddings.word_embeddings.weight\n",
    "writer.add_embedding(word_embedding,\n",
    "                         metadata  = words,\n",
    "                        tag = f'word embedding')"
   ]
  },
  {
   "cell_type": "code",
<<<<<<< HEAD
<<<<<<< HEAD
   "execution_count": 23,
   "id": "01fcfe95",
   "metadata": {},
   "outputs": [
    {
     "name": "stdout",
     "output_type": "stream",
     "text": [
      "warning: Embedding dir exists, did you set global_step for add_embedding()?\n"
     ]
    }
   ],
=======
=======
>>>>>>> fbdc462e4eee0840809dbda8be9f57975a46267b
   "execution_count": 8,
   "id": "bd45f3c4",
   "metadata": {},
   "outputs": [],
<<<<<<< HEAD
>>>>>>> fbdc462e4eee0840809dbda8be9f57975a46267b
=======
>>>>>>> fbdc462e4eee0840809dbda8be9f57975a46267b
   "source": [
    "position_embedding = model.roberta.embeddings.position_embeddings.weight\n",
    "writer.add_embedding(position_embedding,\n",
    "                     metadata  = np.arange(position_embedding.shape[0]),\n",
    "                     tag = f'position embedding')"
   ]
  },
  {
   "cell_type": "code",
<<<<<<< HEAD
<<<<<<< HEAD
   "execution_count": 24,
   "id": "0e657ef6",
=======
   "execution_count": 9,
   "id": "d4a290ea",
>>>>>>> fbdc462e4eee0840809dbda8be9f57975a46267b
=======
   "execution_count": 9,
   "id": "d4a290ea",
>>>>>>> fbdc462e4eee0840809dbda8be9f57975a46267b
   "metadata": {},
   "outputs": [
    {
     "data": {
      "text/plain": [
       "\"token_type_embedding = model.roberta.embeddings.token_type_embeddings.weight\\nwriter.add_embedding(token_type,\\n                     metadata  = np.arange(token_type_embedding.shape[0]),\\n                     tag = f'tokentype embeddings')\""
      ]
     },
<<<<<<< HEAD
<<<<<<< HEAD
     "execution_count": 24,
=======
     "execution_count": 9,
>>>>>>> fbdc462e4eee0840809dbda8be9f57975a46267b
=======
     "execution_count": 9,
>>>>>>> fbdc462e4eee0840809dbda8be9f57975a46267b
     "metadata": {},
     "output_type": "execute_result"
    }
   ],
   "source": [
    "\"\"\"token_type_embedding = model.roberta.embeddings.token_type_embeddings.weight\n",
    "writer.add_embedding(token_type,\n",
    "                     metadata  = np.arange(token_type_embedding.shape[0]),\n",
    "                     tag = f'tokentype embeddings')\"\"\""
   ]
  },
  {
   "cell_type": "code",
<<<<<<< HEAD
<<<<<<< HEAD
   "execution_count": 25,
   "id": "cd4bb513",
=======
   "execution_count": 10,
   "id": "2ee99b51",
>>>>>>> fbdc462e4eee0840809dbda8be9f57975a46267b
=======
   "execution_count": 10,
   "id": "2ee99b51",
>>>>>>> fbdc462e4eee0840809dbda8be9f57975a46267b
   "metadata": {},
   "outputs": [],
   "source": [
    "writer.close()\n"
   ]
  },
  {
   "cell_type": "code",
<<<<<<< HEAD
<<<<<<< HEAD
   "execution_count": 26,
   "id": "ea205129",
   "metadata": {},
   "outputs": [
    {
     "name": "stdout",
     "output_type": "stream",
     "text": [
      "\n",
      "NOTE: Using experimental fast data loading logic. To disable, pass\n",
      "    \"--load_fast=false\" and report issues on GitHub. More details:\n",
      "    https://github.com/tensorflow/tensorboard/issues/4784\n",
      "\n",
      "I0203 15:55:35.288995 123145567522816 plugin.py:346] Monitor runs begin\n",
      "Serving TensorBoard on localhost; to expose to the network, use a proxy or pass --bind_all\n",
      "TensorBoard 2.7.0 at http://localhost:8892/ (Press CTRL+C to quit)\n",
      "^C\n"
     ]
    }
   ],
   "source": [
    "!tensorboard --logdir=/Users/paulmeddeb/2A-Mines/data_Sophia/fake_news/runs --port=8892"
=======
=======
>>>>>>> fbdc462e4eee0840809dbda8be9f57975a46267b
   "execution_count": 11,
   "id": "888b3bd7",
   "metadata": {},
   "outputs": [],
   "source": [
    "!tensorboard --logdir=C:/Users/louis/Desktop/NLP/fake_news/runs/testing_tensorboard_pt"
<<<<<<< HEAD
>>>>>>> fbdc462e4eee0840809dbda8be9f57975a46267b
=======
>>>>>>> fbdc462e4eee0840809dbda8be9f57975a46267b
   ]
  },
  {
   "cell_type": "code",
   "execution_count": null,
<<<<<<< HEAD
<<<<<<< HEAD
   "id": "5659a435",
=======
   "id": "141e8ab0",
>>>>>>> fbdc462e4eee0840809dbda8be9f57975a46267b
=======
   "id": "141e8ab0",
>>>>>>> fbdc462e4eee0840809dbda8be9f57975a46267b
   "metadata": {},
   "outputs": [],
   "source": []
  }
 ],
 "metadata": {
  "kernelspec": {
   "display_name": "Python 3",
   "language": "python",
   "name": "python3"
  },
  "language_info": {
   "codemirror_mode": {
    "name": "ipython",
    "version": 3
   },
   "file_extension": ".py",
   "mimetype": "text/x-python",
   "name": "python",
   "nbconvert_exporter": "python",
   "pygments_lexer": "ipython3",
<<<<<<< HEAD
<<<<<<< HEAD
   "version": "3.8.8"
=======
   "version": "3.9.5"
>>>>>>> fbdc462e4eee0840809dbda8be9f57975a46267b
=======
   "version": "3.9.5"
>>>>>>> fbdc462e4eee0840809dbda8be9f57975a46267b
  }
 },
 "nbformat": 4,
 "nbformat_minor": 5
}
